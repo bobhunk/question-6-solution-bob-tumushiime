{
 "cells": [
  {
   "cell_type": "markdown",
   "metadata": {},
   "source": [
    "# Beyond the Numbers: Exploratory Data Analysis of African School Dropout Patterns\n",
    "\n",
    "**UCU MSc Data Science - Data Visualization Exam | Question 6**\n",
    "\n",
    "Comprehensive EDA of school dropout risks in Sub-Saharan Africa using World Bank Education Statistics.\n",
    "\n",
    "## Objectives\n",
    "1. Explore enrollment, completion, and dropout patterns\n",
    "2. Analyze gender disparities and regional variations\n",
    "3. Identify key risk factors and vulnerable populations\n",
    "4. Generate insights for predictive modeling\n",
    "5. Create compelling visualizations for policy makers"
   ]
  },
  {
   "cell_type": "code",
   "execution_count": 14,
   "metadata": {},
   "outputs": [
    {
     "name": "stdout",
     "output_type": "stream",
     "text": [
      "Libraries imported successfully!\n"
     ]
    }
   ],
   "source": [
    "# Import required libraries\n",
    "import pandas as pd\n",
    "import numpy as np\n",
    "import matplotlib.pyplot as plt\n",
    "import seaborn as sns\n",
    "import matplotlib.pyplot as plt\n",
    "import plotly.express as px\n",
    "import plotly.graph_objects as go\n",
    "from plotly.subplots import make_subplots\n",
    "import warnings\n",
    "warnings.filterwarnings('ignore')\n",
    "\n",
    "# Set visualization style\n",
    "plt.style.use('seaborn-v0_8')\n",
    "sns.set_palette(\"husl\")\n",
    "\n",
    "print(\"Libraries imported successfully!\")"
   ]
  },
  {
   "cell_type": "markdown",
   "metadata": {},
   "source": [
    "## 1. Data Loading and Initial Exploration"
   ]
  },
  {
   "cell_type": "code",
   "execution_count": 3,
   "metadata": {},
   "outputs": [
    {
     "name": "stdout",
     "output_type": "stream",
     "text": [
      "Loaded existing data:\n",
      "- Raw data: 5,600 records\n",
      "- Feature data: 405 records\n"
     ]
    }
   ],
   "source": [
    "# Load the collected education data\n",
    "try:\n",
    "    # Try to load existing processed data\n",
    "    import glob\n",
    "    feature_files = glob.glob('data/processed/dropout_risk_features_*.csv')\n",
    "    raw_files = glob.glob('data/raw/african_education_raw_*.csv')\n",
    "    \n",
    "    if feature_files and raw_files:\n",
    "        # Load most recent files\n",
    "        features_df = pd.read_csv(sorted(feature_files)[-1])\n",
    "        raw_df = pd.read_csv(sorted(raw_files)[-1])\n",
    "        print(f\"Loaded existing data:\")\n",
    "        print(f\"- Raw data: {len(raw_df):,} records\")\n",
    "        print(f\"- Feature data: {len(features_df):,} records\")\n",
    "    else:\n",
    "        print(\"No existing data found. Running data collection...\")\n",
    "        exec(open('data_collection.py').read())\n",
    "        # Reload after collection\n",
    "        feature_files = glob.glob('data/processed/dropout_risk_features_*.csv')\n",
    "        raw_files = glob.glob('data/raw/african_education_raw_*.csv')\n",
    "        features_df = pd.read_csv(sorted(feature_files)[-1])\n",
    "        raw_df = pd.read_csv(sorted(raw_files)[-1])\n",
    "        \n",
    "except Exception as e:\n",
    "    print(f\"Error loading data: {e}\")\n",
    "    print(\"Please run data_collection.py first\")"
   ]
  },
  {
   "cell_type": "code",
   "execution_count": 4,
   "metadata": {},
   "outputs": [
    {
     "name": "stdout",
     "output_type": "stream",
     "text": [
      "=== DATASET OVERVIEW ===\n",
      "Raw Data Shape: (5600, 7)\n",
      "Feature Data Shape: (405, 37)\n",
      "Countries: 27\n",
      "Indicators: 28\n",
      "Years: 2010 - 2024\n",
      "\n",
      "=== COUNTRIES INCLUDED ===\n",
      "AGO: Angola\n",
      "BWA: Botswana\n",
      "BFA: Burkina Faso\n",
      "BDI: Burundi\n",
      "CMR: Cameroon\n",
      "CAF: Central African Republic\n",
      "TCD: Chad\n",
      "COD: Congo, Dem. Rep.\n",
      "SWZ: Eswatini\n",
      "ETH: Ethiopia\n",
      "GHA: Ghana\n",
      "KEN: Kenya\n",
      "LSO: Lesotho\n",
      "MDG: Madagascar\n",
      "MWI: Malawi\n",
      "MLI: Mali\n",
      "MOZ: Mozambique\n",
      "NAM: Namibia\n",
      "NER: Niger\n",
      "NGA: Nigeria\n",
      "RWA: Rwanda\n",
      "SEN: Senegal\n",
      "ZAF: South Africa\n",
      "TZA: Tanzania\n",
      "UGA: Uganda\n",
      "ZMB: Zambia\n",
      "ZWE: Zimbabwe\n"
     ]
    }
   ],
   "source": [
    "# Dataset overview\n",
    "print(\"=== DATASET OVERVIEW ===\")\n",
    "print(f\"Raw Data Shape: {raw_df.shape}\")\n",
    "print(f\"Feature Data Shape: {features_df.shape}\")\n",
    "print(f\"Countries: {len(raw_df['country_code'].unique())}\")\n",
    "print(f\"Indicators: {len(raw_df['indicator_code'].unique())}\")\n",
    "print(f\"Years: {raw_df['year'].min()} - {raw_df['year'].max()}\")\n",
    "\n",
    "print(\"\\n=== COUNTRIES INCLUDED ===\")\n",
    "countries = raw_df[['country_code', 'country_name']].drop_duplicates().sort_values('country_name')\n",
    "for _, row in countries.iterrows():\n",
    "    print(f\"{row['country_code']}: {row['country_name']}\")"
   ]
  },
  {
   "cell_type": "markdown",
   "metadata": {},
   "source": [
    "## 2. Data Quality Assessment"
   ]
  },
  {
   "cell_type": "code",
   "execution_count": 7,
   "metadata": {},
   "outputs": [
    {
     "name": "stdout",
     "output_type": "stream",
     "text": [
      "=== DATA COMPLETENESS BY INDICATOR ===\n",
      "                   Total_Records  Non_Null_Values  Countries_Covered  \\\n",
      "indicator_code                                                         \n",
      "NY.GDP.PCAP.CD               403              403                 27   \n",
      "SE.ADT.LITR.FE.ZS            104              104                 27   \n",
      "SE.ADT.LITR.MA.ZS            103              103                 27   \n",
      "SE.ADT.LITR.ZS               103              103                 27   \n",
      "SE.PRM.CMPT.FE.ZS            234              234                 27   \n",
      "SE.PRM.CMPT.MA.ZS            235              235                 27   \n",
      "SE.PRM.CMPT.ZS               237              237                 27   \n",
      "SE.PRM.DURS                  378              378                 27   \n",
      "SE.PRM.NENR                  124              124                 25   \n",
      "SE.PRM.NENR.FE               112              112                 23   \n",
      "\n",
      "                   Completeness_%  \n",
      "indicator_code                     \n",
      "NY.GDP.PCAP.CD              100.0  \n",
      "SE.ADT.LITR.FE.ZS           100.0  \n",
      "SE.ADT.LITR.MA.ZS           100.0  \n",
      "SE.ADT.LITR.ZS              100.0  \n",
      "SE.PRM.CMPT.FE.ZS           100.0  \n",
      "SE.PRM.CMPT.MA.ZS           100.0  \n",
      "SE.PRM.CMPT.ZS              100.0  \n",
      "SE.PRM.DURS                 100.0  \n",
      "SE.PRM.NENR                 100.0  \n",
      "SE.PRM.NENR.FE              100.0  \n"
     ]
    },
    {
     "data": {
      "image/png": "[encoded data removed]",
      "text/plain": [
       "<Figure size 1500x600 with 2 Axes>"
      ]
     },
     "metadata": {},
     "output_type": "display_data"
    }
   ],
   "source": [
    "# Data completeness analysis\n",
    "print(\"=== DATA COMPLETENESS BY INDICATOR ===\")\n",
    "completeness = raw_df.groupby('indicator_code').agg({\n",
    "    'value': ['count', lambda x: x.notna().sum()],\n",
    "    'country_code': 'nunique'\n",
    "}).round(2)\n",
    "\n",
    "completeness.columns = ['Total_Records', 'Non_Null_Values', 'Countries_Covered']\n",
    "completeness['Completeness_%'] = (completeness['Non_Null_Values'] / completeness['Total_Records'] * 100).round(1)\n",
    "completeness = completeness.sort_values('Completeness_%', ascending=False)\n",
    "\n",
    "print(completeness.head(10))\n",
    "\n",
    "# Visualize data completeness\n",
    "fig, (ax1, ax2) = plt.subplots(1, 2, figsize=(15, 6))\n",
    "\n",
    "# Completeness by indicator\n",
    "completeness.head(15)['Completeness_%'].plot(kind='barh', ax=ax1)\n",
    "ax1.set_title('Data Completeness by Education Indicator')\n",
    "ax1.set_xlabel('Completeness (%)')\n",
    "\n",
    "# Countries coverage\n",
    "completeness.head(15)['Countries_Covered'].plot(kind='barh', ax=ax2, color='orange')\n",
    "ax2.set_title('Country Coverage by Indicator')\n",
    "ax2.set_xlabel('Number of Countries')\n",
    "\n",
    "plt.tight_layout()\n",
    "plt.show()"
   ]
  },
  {
   "cell_type": "markdown",
   "metadata": {},
   "source": [
    "## 3. Regional and Country-Level Analysis"
   ]
  },
  {
   "cell_type": "code",
   "execution_count": 8,
   "metadata": {},
   "outputs": [
    {
     "name": "stdout",
     "output_type": "stream",
     "text": [
      "=== REGIONAL DISTRIBUTION ===\n",
      "region\n",
      "Southern Africa    150\n",
      "East Africa         90\n",
      "West Africa         90\n",
      "Central Africa      75\n",
      "Name: count, dtype: int64\n"
     ]
    }
   ],
   "source": [
    "# Define regional groupings for Sub-Saharan Africa\n",
    "regional_groups = {\n",
    "    'East Africa': ['UGA', 'KEN', 'TZA', 'RWA', 'ETH', 'BDI'],\n",
    "    'West Africa': ['GHA', 'NGA', 'SEN', 'MLI', 'BFA', 'NER'],\n",
    "    'Central Africa': ['CMR', 'CAF', 'COD', 'TCD', 'AGO'],\n",
    "    'Southern Africa': ['ZAF', 'BWA', 'ZWE', 'ZMB', 'MWI', 'MOZ', 'MDG', 'NAM', 'LSO', 'SWZ']\n",
    "}\n",
    "\n",
    "# Add regional classification to features dataset\n",
    "def get_region(country_code):\n",
    "    for region, countries in regional_groups.items():\n",
    "        if country_code in countries:\n",
    "            return region\n",
    "    return 'Other'\n",
    "\n",
    "features_df['region'] = features_df['country_code'].apply(get_region)\n",
    "\n",
    "print(\"=== REGIONAL DISTRIBUTION ===\")\n",
    "print(features_df['region'].value_counts())"
   ]
  },
  {
   "cell_type": "code",
   "execution_count": 9,
   "metadata": {},
   "outputs": [
    {
     "data": {
      "application/vnd.plotly.v1+json": {
       "config": {
        "plotlyServerURL": "https://plot.ly"
       },
       "data": [
        {
         "alignmentgroup": "True",
         "hovertemplate": "Region=%{x}<br>Primary Enrollment Rate (%)=%{y}<extra></extra>",
         "legendgroup": "",
         "marker": {
          "color": "#636efa"
         },
         "name": "",
         "notched": false,
         "offsetgroup": "",
         "orientation": "v",
         "showlegend": false,
         "type": "box",
         "x": [
          "Central Africa",
          "Central Africa",
          "East Africa",
          "East Africa",
          "East Africa",
          "West Africa",
          "West Africa",
          "West Africa",
          "West Africa",
          "West Africa",
          "West Africa",
          "West Africa",
          "West Africa",
          "West Africa",
          "Southern Africa",
          "Southern Africa",
          "Southern Africa",
          "Central Africa",
          "Central Africa",
          "Central Africa",
          "Central Africa",
          "Central Africa",
          "Central Africa",
          "Central Africa",
          "Central Africa",
          "Central Africa",
          "East Africa",
          "East Africa",
          "East Africa",
          "East Africa",
          "East Africa",
          "West Africa",
          "West Africa",
          "West Africa",
          "West Africa",
          "West Africa",
          "West Africa",
          "West Africa",
          "West Africa",
          "West Africa",
          "East Africa",
          "Southern Africa",
          "Southern Africa",
          "Southern Africa",
          "Southern Africa",
          "Southern Africa",
          "Southern Africa",
          "Southern Africa",
          "Southern Africa",
          "Southern Africa",
          "West Africa",
          "West Africa",
          "West Africa",
          "West Africa",
          "West Africa",
          "West Africa",
          "West Africa",
          "West Africa",
          "West Africa",
          "Southern Africa",
          "Southern Africa",
          "Southern Africa",
          "Southern Africa",
          "Southern Africa",
          "Southern Africa",
          "Southern Africa",
          "Southern Africa",
          "Southern Africa",
          "Southern Africa",
          "Southern Africa",
          "Southern Africa",
          "Southern Africa",
          "Southern Africa",
          "West Africa",
          "West Africa",
          "West Africa",
          "West Africa",
          "West Africa",
          "West Africa",
          "West Africa",
          "West Africa",
          "West Africa",
          "East Africa",
          "East Africa",
          "East Africa",
          "West Africa",
          "West Africa",
          "West Africa",
          "West Africa",
          "West Africa",
          "West Africa",
          "West Africa",
          "West Africa",
          "Southern Africa",
          "Southern Africa",
          "Southern Africa",
          "Southern Africa",
          "Southern Africa",
          "Southern Africa",
          "Southern Africa",
          "Southern Africa",
          "Central Africa",
          "Central Africa",
          "Central Africa",
          "Central Africa",
          "East Africa",
          "East Africa",
          "East Africa",
          "East Africa",
          "East Africa",
          "East Africa",
          "East Africa",
          "East Africa",
          "East Africa",
          "East Africa",
          "Southern Africa",
          "Southern Africa",
          "Southern Africa",
          "Southern Africa",
          "Southern Africa",
          "Southern Africa",
          "Southern Africa",
          "Southern Africa",
          "Southern Africa"
         ],
         "x0": " ",
         "xaxis": "x",
         "y": {
          "bdata": "AWpq2VrzUkAr2bERiIFTQPWc9L7x11dAi1QYWwi4V0DWxW00gDNXQAZM4Nbd9E1AhbGFIAc5UEDrxVBOtGtQQFaCxeHMpVBAZRniWBfzUECFd7mI71hRQLq9pDFazVJAWvCiryAbU0APlxx3SqlTQCrj32dc8FVAvcYuUb0BVkCuKvuuCOpVQGVTrvAufVBACyQofozpT0DikuNO6ZJQQOpb5nRZLlZA8KKvIM3YVkB/+zpwzuxWQH/eVKTCBFdAZDvfT42fV0C1FfvL7jdXQBGq1OyBVlJAFw6EZAFPU0CLbOf7qZ9TQDFCeLRxRlVATpfFxOYnVUDEzhQ6ryVUQBfUt8zp2FNACAPPvYc7VUCE04IXfb9VQMb5m1CIUlZAmGn7V1aYVUAyVTAqqUtVQD9XW7G/HlVAwM+4cCCKVUCLGkzD8P1TQPCFyVTBKFZAsylXeJc7VkCp9ul4zExWQNxoAG+BmFVA0GG+vADXVUA+y/Pg7iZWQK1RD9HopFZA8l61MuFTV0Cmft5UpOZXQAoRcAhVElBA0XR2Mjg4UEA/bypSYWxPQMVyS6shUU1AsI9OXfmkTUDZfFwbKtJLQJMdG4F4fUxAXfksz4OjTkBx5ldzgHhNQHcVUn5SdVZAwlHy6hzfVUDsaYe/Ju9VQFDfMqfLOFZANSkF3V56VkBQNuUK7+BWQCmWW1oNsVZA3e9QFOh3VkBWt3pOentXQFJJnYAm8lZAXI/C9SjOV0Dx9EpZhk5YQNKMRdPZVVhAD5ccd0pfWEAqjC0EOQhLQMHKoUW2W01AGoaPiCkxTkCKWS+GcmpOQGkdVU0QEU5A+MJkqmDQTkCwrDQpBclPQBVvZB75R1BAF5rrNNIIUEAP1v85zLVYQFYOLbKdO1hAO8JpwYuyV0AtCVBTy+RRQFMFo5I6D1JAD9HoDmKRUkDBc+/hkktSQCsTfqmfb1JAymyQSUZ2UkC8rl+wG2JSQE3zjlN02FJAcCU7NgLzVUB+AFKbOFVWQHr83qY/E1ZAGqN1VDUhVUBenWNA9k5VQIL/rWTHClVADr4wmSoQVUCsyr4rgqFUQGgFhqxu1U5Abmk1JO6FU0CDhv4JLsZTQKt4I/PISVJAP+PCgZAMV0Brn47HDOBVQGJnCp3X/FRA7dPxmIHUVEBc5nRZTOBUQHB87Zkl5VRACeHRxhFVVECyLm6jAeBWQEImGTkLq1dAD0WBPpHfV0CpvB3htBZVQFslWBzOwFVA7wOQ2sQzVUDnqQ65GfxVQBqGj4gpTVZAE2HD0yunVUDGbTSAt8pUQDfg88MIi1dAfcucLouJV0A=",
          "dtype": "f8"
         },
         "y0": " ",
         "yaxis": "y"
        }
       ],
       "layout": {
        "boxmode": "group",
        "height": 500,
        "legend": {
         "tracegroupgap": 0
        },
        "template": {
         "data": {
          "bar": [
           {
            "error_x": {
             "color": "#2a3f5f"
            },
            "error_y": {
             "color": "#2a3f5f"
            },
            "marker": {
             "line": {
              "color": "#E5ECF6",
              "width": 0.5
             },
             "pattern": {
              "fillmode": "overlay",
              "size": 10,
              "solidity": 0.2
             }
            },
            "type": "bar"
           }
          ],
          "barpolar": [
           {
            "marker": {
             "line": {
              "color": "#E5ECF6",
              "width": 0.5
             },
             "pattern": {
              "fillmode": "overlay",
              "size": 10,
              "solidity": 0.2
             }
            },
            "type": "barpolar"
           }
          ],
          "carpet": [
           {
            "aaxis": {
             "endlinecolor": "#2a3f5f",
             "gridcolor": "white",
             "linecolor": "white",
             "minorgridcolor": "white",
             "startlinecolor": "#2a3f5f"
            },
            "baxis": {
             "endlinecolor": "#2a3f5f",
             "gridcolor": "white",
             "linecolor": "white",
             "minorgridcolor": "white",
             "startlinecolor": "#2a3f5f"
            },
            "type": "carpet"
           }
          ],
          "choropleth": [
           {
            "colorbar": {
             "outlinewidth": 0,
             "ticks": ""
            },
            "type": "choropleth"
           }
          ],
          "contour": [
           {
            "colorbar": {
             "outlinewidth": 0,
             "ticks": ""
            },
            "colorscale": [
             [
              0,
              "#0d0887"
             ],
             [
              0.1111111111111111,
              "#46039f"
             ],
             [
              0.2222222222222222,
              "#7201a8"
             ],
             [
              0.3333333333333333,
              "#9c179e"
             ],
             [
              0.4444444444444444,
              "#bd3786"
             ],
             [
              0.5555555555555556,
              "#d8576b"
             ],
             [
              0.6666666666666666,
              "#ed7953"
             ],
             [
              0.7777777777777778,
              "#fb9f3a"
             ],
             [
              0.8888888888888888,
              "#fdca26"
             ],
             [
              1,
              "#f0f921"
             ]
            ],
            "type": "contour"
           }
          ],
          "contourcarpet": [
           {
            "colorbar": {
             "outlinewidth": 0,
             "ticks": ""
            },
            "type": "contourcarpet"
           }
          ],
          "heatmap": [
           {
            "colorbar": {
             "outlinewidth": 0,
             "ticks": ""
            },
            "colorscale": [
             [
              0,
              "#0d0887"
             ],
             [
              0.1111111111111111,
              "#46039f"
             ],
             [
              0.2222222222222222,
              "#7201a8"
             ],
             [
              0.3333333333333333,
              "#9c179e"
             ],
             [
              0.4444444444444444,
              "#bd3786"
             ],
             [
              0.5555555555555556,
              "#d8576b"
             ],
             [
              0.6666666666666666,
              "#ed7953"
             ],
             [
              0.7777777777777778,
              "#fb9f3a"
             ],
             [
              0.8888888888888888,
              "#fdca26"
             ],
             [
              1,
              "#f0f921"
             ]
            ],
            "type": "heatmap"
           }
          ],
          "histogram": [
           {
            "marker": {
             "pattern": {
              "fillmode": "overlay",
              "size": 10,
              "solidity": 0.2
             }
            },
            "type": "histogram"
           }
          ],
          "histogram2d": [
           {
            "colorbar": {
             "outlinewidth": 0,
             "ticks": ""
            },
            "colorscale": [
             [
              0,
              "#0d0887"
             ],
             [
              0.1111111111111111,
              "#46039f"
             ],
             [
              0.2222222222222222,
              "#7201a8"
             ],
             [
              0.3333333333333333,
              "#9c179e"
             ],
             [
              0.4444444444444444,
              "#bd3786"
             ],
             [
              0.5555555555555556,
              "#d8576b"
             ],
             [
              0.6666666666666666,
              "#ed7953"
             ],
             [
              0.7777777777777778,
              "#fb9f3a"
             ],
             [
              0.8888888888888888,
              "#fdca26"
             ],
             [
              1,
              "#f0f921"
             ]
            ],
            "type": "histogram2d"
           }
          ],
          "histogram2dcontour": [
           {
            "colorbar": {
             "outlinewidth": 0,
             "ticks": ""
            },
            "colorscale": [
             [
              0,
              "#0d0887"
             ],
             [
              0.1111111111111111,
              "#46039f"
             ],
             [
              0.2222222222222222,
              "#7201a8"
             ],
             [
              0.3333333333333333,
              "#9c179e"
             ],
             [
              0.4444444444444444,
              "#bd3786"
             ],
             [
              0.5555555555555556,
              "#d8576b"
             ],
             [
              0.6666666666666666,
              "#ed7953"
             ],
             [
              0.7777777777777778,
              "#fb9f3a"
             ],
             [
              0.8888888888888888,
              "#fdca26"
             ],
             [
              1,
              "#f0f921"
             ]
            ],
            "type": "histogram2dcontour"
           }
          ],
          "mesh3d": [
           {
            "colorbar": {
             "outlinewidth": 0,
             "ticks": ""
            },
            "type": "mesh3d"
           }
          ],
          "parcoords": [
           {
            "line": {
             "colorbar": {
              "outlinewidth": 0,
              "ticks": ""
             }
            },
            "type": "parcoords"
           }
          ],
          "pie": [
           {
            "automargin": true,
            "type": "pie"
           }
          ],
          "scatter": [
           {
            "fillpattern": {
             "fillmode": "overlay",
             "size": 10,
             "solidity": 0.2
            },
            "type": "scatter"
           }
          ],
          "scatter3d": [
           {
            "line": {
             "colorbar": {
              "outlinewidth": 0,
              "ticks": ""
             }
            },
            "marker": {
             "colorbar": {
              "outlinewidth": 0,
              "ticks": ""
             }
            },
            "type": "scatter3d"
           }
          ],
          "scattercarpet": [
           {
            "marker": {
             "colorbar": {
              "outlinewidth": 0,
              "ticks": ""
             }
            },
            "type": "scattercarpet"
           }
          ],
          "scattergeo": [
           {
            "marker": {
             "colorbar": {
              "outlinewidth": 0,
              "ticks": ""
             }
            },
            "type": "scattergeo"
           }
          ],
          "scattergl": [
           {
            "marker": {
             "colorbar": {
              "outlinewidth": 0,
              "ticks": ""
             }
            },
            "type": "scattergl"
           }
          ],
          "scattermap": [
           {
            "marker": {
             "colorbar": {
              "outlinewidth": 0,
              "ticks": ""
             }
            },
            "type": "scattermap"
           }
          ],
          "scattermapbox": [
           {
            "marker": {
             "colorbar": {
              "outlinewidth": 0,
              "ticks": ""
             }
            },
            "type": "scattermapbox"
           }
          ],
          "scatterpolar": [
           {
            "marker": {
             "colorbar": {
              "outlinewidth": 0,
              "ticks": ""
             }
            },
            "type": "scatterpolar"
           }
          ],
          "scatterpolargl": [
           {
            "marker": {
             "colorbar": {
              "outlinewidth": 0,
              "ticks": ""
             }
            },
            "type": "scatterpolargl"
           }
          ],
          "scatterternary": [
           {
            "marker": {
             "colorbar": {
              "outlinewidth": 0,
              "ticks": ""
             }
            },
            "type": "scatterternary"
           }
          ],
          "surface": [
           {
            "colorbar": {
             "outlinewidth": 0,
             "ticks": ""
            },
            "colorscale": [
             [
              0,
              "#0d0887"
             ],
             [
              0.1111111111111111,
              "#46039f"
             ],
             [
              0.2222222222222222,
              "#7201a8"
             ],
             [
              0.3333333333333333,
              "#9c179e"
             ],
             [
              0.4444444444444444,
              "#bd3786"
             ],
             [
              0.5555555555555556,
              "#d8576b"
             ],
             [
              0.6666666666666666,
              "#ed7953"
             ],
             [
              0.7777777777777778,
              "#fb9f3a"
             ],
             [
              0.8888888888888888,
              "#fdca26"
             ],
             [
              1,
              "#f0f921"
             ]
            ],
            "type": "surface"
           }
          ],
          "table": [
           {
            "cells": {
             "fill": {
              "color": "#EBF0F8"
             },
             "line": {
              "color": "white"
             }
            },
            "header": {
             "fill": {
              "color": "#C8D4E3"
             },
             "line": {
              "color": "white"
             }
            },
            "type": "table"
           }
          ]
         },
         "layout": {
          "annotationdefaults": {
           "arrowcolor": "#2a3f5f",
           "arrowhead": 0,
           "arrowwidth": 1
          },
          "autotypenumbers": "strict",
          "coloraxis": {
           "colorbar": {
            "outlinewidth": 0,
            "ticks": ""
           }
          },
          "colorscale": {
           "diverging": [
            [
             0,
             "#8e0152"
            ],
            [
             0.1,
             "#c51b7d"
            ],
            [
             0.2,
             "#de77ae"
            ],
            [
             0.3,
             "#f1b6da"
            ],
            [
             0.4,
             "#fde0ef"
            ],
            [
             0.5,
             "#f7f7f7"
            ],
            [
             0.6,
             "#e6f5d0"
            ],
            [
             0.7,
             "#b8e186"
            ],
            [
             0.8,
             "#7fbc41"
            ],
            [
             0.9,
             "#4d9221"
            ],
            [
             1,
             "#276419"
            ]
           ],
           "sequential": [
            [
             0,
             "#0d0887"
            ],
            [
             0.1111111111111111,
             "#46039f"
            ],
            [
             0.2222222222222222,
             "#7201a8"
            ],
            [
             0.3333333333333333,
             "#9c179e"
            ],
            [
             0.4444444444444444,
             "#bd3786"
            ],
            [
             0.5555555555555556,
             "#d8576b"
            ],
            [
             0.6666666666666666,
             "#ed7953"
            ],
            [
             0.7777777777777778,
             "#fb9f3a"
            ],
            [
             0.8888888888888888,
             "#fdca26"
            ],
            [
             1,
             "#f0f921"
            ]
           ],
           "sequentialminus": [
            [
             0,
             "#0d0887"
            ],
            [
             0.1111111111111111,
             "#46039f"
            ],
            [
             0.2222222222222222,
             "#7201a8"
            ],
            [
             0.3333333333333333,
             "#9c179e"
            ],
            [
             0.4444444444444444,
             "#bd3786"
            ],
            [
             0.5555555555555556,
             "#d8576b"
            ],
            [
             0.6666666666666666,
             "#ed7953"
            ],
            [
             0.7777777777777778,
             "#fb9f3a"
            ],
            [
             0.8888888888888888,
             "#fdca26"
            ],
            [
             1,
             "#f0f921"
            ]
           ]
          },
          "colorway": [
           "#636efa",
           "#EF553B",
           "#00cc96",
           "#ab63fa",
           "#FFA15A",
           "#19d3f3",
           "#FF6692",
           "#B6E880",
           "#FF97FF",
           "#FECB52"
          ],
          "font": {
           "color": "#2a3f5f"
          },
          "geo": {
           "bgcolor": "white",
           "lakecolor": "white",
           "landcolor": "#E5ECF6",
           "showlakes": true,
           "showland": true,
           "subunitcolor": "white"
          },
          "hoverlabel": {
           "align": "left"
          },
          "hovermode": "closest",
          "mapbox": {
           "style": "light"
          },
          "paper_bgcolor": "white",
          "plot_bgcolor": "#E5ECF6",
          "polar": {
           "angularaxis": {
            "gridcolor": "white",
            "linecolor": "white",
            "ticks": ""
           },
           "bgcolor": "#E5ECF6",
           "radialaxis": {
            "gridcolor": "white",
            "linecolor": "white",
            "ticks": ""
           }
          },
          "scene": {
           "xaxis": {
            "backgroundcolor": "#E5ECF6",
            "gridcolor": "white",
            "gridwidth": 2,
            "linecolor": "white",
            "showbackground": true,
            "ticks": "",
            "zerolinecolor": "white"
           },
           "yaxis": {
            "backgroundcolor": "#E5ECF6",
            "gridcolor": "white",
            "gridwidth": 2,
            "linecolor": "white",
            "showbackground": true,
            "ticks": "",
            "zerolinecolor": "white"
           },
           "zaxis": {
            "backgroundcolor": "#E5ECF6",
            "gridcolor": "white",
            "gridwidth": 2,
            "linecolor": "white",
            "showbackground": true,
            "ticks": "",
            "zerolinecolor": "white"
           }
          },
          "shapedefaults": {
           "line": {
            "color": "#2a3f5f"
           }
          },
          "ternary": {
           "aaxis": {
            "gridcolor": "white",
            "linecolor": "white",
            "ticks": ""
           },
           "baxis": {
            "gridcolor": "white",
            "linecolor": "white",
            "ticks": ""
           },
           "bgcolor": "#E5ECF6",
           "caxis": {
            "gridcolor": "white",
            "linecolor": "white",
            "ticks": ""
           }
          },
          "title": {
           "x": 0.05
          },
          "xaxis": {
           "automargin": true,
           "gridcolor": "white",
           "linecolor": "white",
           "ticks": "",
           "title": {
            "standoff": 15
           },
           "zerolinecolor": "white",
           "zerolinewidth": 2
          },
          "yaxis": {
           "automargin": true,
           "gridcolor": "white",
           "linecolor": "white",
           "ticks": "",
           "title": {
            "standoff": 15
           },
           "zerolinecolor": "white",
           "zerolinewidth": 2
          }
         }
        },
        "title": {
         "text": "Primary School Net Enrollment Rate by Region"
        },
        "xaxis": {
         "anchor": "y",
         "domain": [
          0,
          1
         ],
         "title": {
          "text": "Region"
         }
        },
        "yaxis": {
         "anchor": "x",
         "domain": [
          0,
          1
         ],
         "title": {
          "text": "Primary Enrollment Rate (%)"
         }
        }
       }
      }
     },
     "metadata": {},
     "output_type": "display_data"
    },
    {
     "data": {
      "application/vnd.plotly.v1+json": {
       "config": {
        "plotlyServerURL": "https://plot.ly"
       },
       "data": [
        {
         "alignmentgroup": "True",
         "hovertemplate": "Region=%{x}<br>Secondary Enrollment Rate (%)=%{y}<extra></extra>",
         "legendgroup": "",
         "marker": {
          "color": "#636efa"
         },
         "name": "",
         "notched": false,
         "offsetgroup": "",
         "orientation": "v",
         "showlegend": false,
         "type": "box",
         "x": [
          "Central Africa",
          "East Africa",
          "East Africa",
          "East Africa",
          "East Africa",
          "East Africa",
          "East Africa",
          "East Africa",
          "East Africa",
          "East Africa",
          "West Africa",
          "West Africa",
          "West Africa",
          "West Africa",
          "West Africa",
          "West Africa",
          "West Africa",
          "West Africa",
          "Central Africa",
          "Central Africa",
          "Central Africa",
          "Central Africa",
          "Central Africa",
          "Central Africa",
          "Central Africa",
          "Central Africa",
          "East Africa",
          "East Africa",
          "West Africa",
          "West Africa",
          "West Africa",
          "West Africa",
          "West Africa",
          "West Africa",
          "West Africa",
          "Southern Africa",
          "Southern Africa",
          "Southern Africa",
          "Southern Africa",
          "Southern Africa",
          "Southern Africa",
          "Southern Africa",
          "Southern Africa",
          "Southern Africa",
          "Southern Africa",
          "Southern Africa",
          "Southern Africa",
          "Southern Africa",
          "Southern Africa",
          "West Africa",
          "West Africa",
          "West Africa",
          "West Africa",
          "West Africa",
          "West Africa",
          "West Africa",
          "West Africa",
          "Southern Africa",
          "Southern Africa",
          "Southern Africa",
          "Southern Africa",
          "Southern Africa",
          "Southern Africa",
          "Southern Africa",
          "Southern Africa",
          "Southern Africa",
          "Southern Africa",
          "Southern Africa",
          "Southern Africa",
          "Southern Africa",
          "Southern Africa",
          "West Africa",
          "West Africa",
          "West Africa",
          "West Africa",
          "West Africa",
          "East Africa",
          "East Africa",
          "East Africa",
          "West Africa",
          "Southern Africa",
          "Southern Africa",
          "Southern Africa",
          "Southern Africa",
          "Southern Africa",
          "Southern Africa",
          "Central Africa",
          "Central Africa",
          "East Africa",
          "East Africa",
          "East Africa",
          "Southern Africa",
          "Southern Africa",
          "Southern Africa",
          "Southern Africa"
         ],
         "x0": " ",
         "xaxis": "x",
         "y": {
          "bdata": "otEdxM6UJkALYwtBDlouQF66SQwC4zBA3e9QFOhrMkACt+7mqWY1QDOK5ZZW8zlAPL1SliHmPEA5l+KqshdAQEvqBDQRTjxAdlQ1QdSFO0BrmneconswQGcng6PkdTJA5iK+E7O+M0CM22gAb6k1QEZCW86liDpAUPwYc9caPECxM4XOayQ9QByZR/5gAD9ApUkp6PaiK0DSxhFr8TkrQFRvDWyVcClA6rKY2HzUQ0BtqBjnb4JEQN6rVib8+kVAkpbK2xGCRkCXcymuKv9GQDnRrkLKFz5AHHxhMlXQPkDw3Hu45FRKQCB7vfvjEUpA+5EiMqzKS0CV8e8zLrhLQCo6kst/uEtAYcPTK2UhTUCBIatbPZ9MQFbUYBqGD0JABwjm6PF7Q0CGIAclzBREQMZQTrSrUERAblFmg0xSREBS8uocA+5EQGkdVU0QrURAOdGuQsrvPUARUyKJXv4+QAexM4XOAz9AmdNlMbFJPkCgbMoV3iU+QDtT6LzGHj1AG/UQje7YPUDNHmgFhqw+QCJxj6UP/T9AM4rlllaPQEBmoDL+fYJBQNiBc0aUXj9A98d71cpEQECN0Tqqmlg9QAVu3c1T7T1A/iYUIuDwL0D+Q/rt6xAxQFx381SHdDFAEk4LXvTlM0C3lzRG6zg0QMjNcAM+RzNAgSbChqcfPUAB++jUlQ8+QBQ/xty1dD5AQni0ccReQEDFPZY+dMVAQAjm6PF7H0FAUTHO34R6QEAmUwWjkh5BQJUrvMtFvCVAUtUEUfcRJ0Cu9UVCW04uQCeIug9AojBAfsaFAyERNEBCPujZrBo8QLR224XmIjxAjzaOWIvvQUCo4zEDldVCQIfcDDfgh0JA9YQlHlDKQ0AFFytqMBFEQL8OnDOigENAT3XIzXA/REALQQ5KmNlEQPAWSFD8cDJAQs9m1efaMkBjRQ2mYfA3QIW2nEtxjThA3LqbpzqMOkCbrFEP0aJWQGGJB5RN+1FAKxiV1AnwR0CE2JlC511IQA==",
          "dtype": "f8"
         },
         "y0": " ",
         "yaxis": "y"
        }
       ],
       "layout": {
        "boxmode": "group",
        "height": 500,
        "legend": {
         "tracegroupgap": 0
        },
        "template": {
         "data": {
          "bar": [
           {
            "error_x": {
             "color": "#2a3f5f"
            },
            "error_y": {
             "color": "#2a3f5f"
            },
            "marker": {
             "line": {
              "color": "#E5ECF6",
              "width": 0.5
             },
             "pattern": {
              "fillmode": "overlay",
              "size": 10,
              "solidity": 0.2
             }
            },
            "type": "bar"
           }
          ],
          "barpolar": [
           {
            "marker": {
             "line": {
              "color": "#E5ECF6",
              "width": 0.5
             },
             "pattern": {
              "fillmode": "overlay",
              "size": 10,
              "solidity": 0.2
             }
            },
            "type": "barpolar"
           }
          ],
          "carpet": [
           {
            "aaxis": {
             "endlinecolor": "#2a3f5f",
             "gridcolor": "white",
             "linecolor": "white",
             "minorgridcolor": "white",
             "startlinecolor": "#2a3f5f"
            },
            "baxis": {
             "endlinecolor": "#2a3f5f",
             "gridcolor": "white",
             "linecolor": "white",
             "minorgridcolor": "white",
             "startlinecolor": "#2a3f5f"
            },
            "type": "carpet"
           }
          ],
          "choropleth": [
           {
            "colorbar": {
             "outlinewidth": 0,
             "ticks": ""
            },
            "type": "choropleth"
           }
          ],
          "contour": [
           {
            "colorbar": {
             "outlinewidth": 0,
             "ticks": ""
            },
            "colorscale": [
             [
              0,
              "#0d0887"
             ],
             [
              0.1111111111111111,
              "#46039f"
             ],
             [
              0.2222222222222222,
              "#7201a8"
             ],
             [
              0.3333333333333333,
              "#9c179e"
             ],
             [
              0.4444444444444444,
              "#bd3786"
             ],
             [
              0.5555555555555556,
              "#d8576b"
             ],
             [
              0.6666666666666666,
              "#ed7953"
             ],
             [
              0.7777777777777778,
              "#fb9f3a"
             ],
             [
              0.8888888888888888,
              "#fdca26"
             ],
             [
              1,
              "#f0f921"
             ]
            ],
            "type": "contour"
           }
          ],
          "contourcarpet": [
           {
            "colorbar": {
             "outlinewidth": 0,
             "ticks": ""
            },
            "type": "contourcarpet"
           }
          ],
          "heatmap": [
           {
            "colorbar": {
             "outlinewidth": 0,
             "ticks": ""
            },
            "colorscale": [
             [
              0,
              "#0d0887"
             ],
             [
              0.1111111111111111,
              "#46039f"
             ],
             [
              0.2222222222222222,
              "#7201a8"
             ],
             [
              0.3333333333333333,
              "#9c179e"
             ],
             [
              0.4444444444444444,
              "#bd3786"
             ],
             [
              0.5555555555555556,
              "#d8576b"
             ],
             [
              0.6666666666666666,
              "#ed7953"
             ],
             [
              0.7777777777777778,
              "#fb9f3a"
             ],
             [
              0.8888888888888888,
              "#fdca26"
             ],
             [
              1,
              "#f0f921"
             ]
            ],
            "type": "heatmap"
           }
          ],
          "histogram": [
           {
            "marker": {
             "pattern": {
              "fillmode": "overlay",
              "size": 10,
              "solidity": 0.2
             }
            },
            "type": "histogram"
           }
          ],
          "histogram2d": [
           {
            "colorbar": {
             "outlinewidth": 0,
             "ticks": ""
            },
            "colorscale": [
             [
              0,
              "#0d0887"
             ],
             [
              0.1111111111111111,
              "#46039f"
             ],
             [
              0.2222222222222222,
              "#7201a8"
             ],
             [
              0.3333333333333333,
              "#9c179e"
             ],
             [
              0.4444444444444444,
              "#bd3786"
             ],
             [
              0.5555555555555556,
              "#d8576b"
             ],
             [
              0.6666666666666666,
              "#ed7953"
             ],
             [
              0.7777777777777778,
              "#fb9f3a"
             ],
             [
              0.8888888888888888,
              "#fdca26"
             ],
             [
              1,
              "#f0f921"
             ]
            ],
            "type": "histogram2d"
           }
          ],
          "histogram2dcontour": [
           {
            "colorbar": {
             "outlinewidth": 0,
             "ticks": ""
            },
            "colorscale": [
             [
              0,
              "#0d0887"
             ],
             [
              0.1111111111111111,
              "#46039f"
             ],
             [
              0.2222222222222222,
              "#7201a8"
             ],
             [
              0.3333333333333333,
              "#9c179e"
             ],
             [
              0.4444444444444444,
              "#bd3786"
             ],
             [
              0.5555555555555556,
              "#d8576b"
             ],
             [
              0.6666666666666666,
              "#ed7953"
             ],
             [
              0.7777777777777778,
              "#fb9f3a"
             ],
             [
              0.8888888888888888,
              "#fdca26"
             ],
             [
              1,
              "#f0f921"
             ]
            ],
            "type": "histogram2dcontour"
           }
          ],
          "mesh3d": [
           {
            "colorbar": {
             "outlinewidth": 0,
             "ticks": ""
            },
            "type": "mesh3d"
           }
          ],
          "parcoords": [
           {
            "line": {
             "colorbar": {
              "outlinewidth": 0,
              "ticks": ""
             }
            },
            "type": "parcoords"
           }
          ],
          "pie": [
           {
            "automargin": true,
            "type": "pie"
           }
          ],
          "scatter": [
           {
            "fillpattern": {
             "fillmode": "overlay",
             "size": 10,
             "solidity": 0.2
            },
            "type": "scatter"
           }
          ],
          "scatter3d": [
           {
            "line": {
             "colorbar": {
              "outlinewidth": 0,
              "ticks": ""
             }
            },
            "marker": {
             "colorbar": {
              "outlinewidth": 0,
              "ticks": ""
             }
            },
            "type": "scatter3d"
           }
          ],
          "scattercarpet": [
           {
            "marker": {
             "colorbar": {
              "outlinewidth": 0,
              "ticks": ""
             }
            },
            "type": "scattercarpet"
           }
          ],
          "scattergeo": [
           {
            "marker": {
             "colorbar": {
              "outlinewidth": 0,
              "ticks": ""
             }
            },
            "type": "scattergeo"
           }
          ],
          "scattergl": [
           {
            "marker": {
             "colorbar": {
              "outlinewidth": 0,
              "ticks": ""
             }
            },
            "type": "scattergl"
           }
          ],
          "scattermap": [
           {
            "marker": {
             "colorbar": {
              "outlinewidth": 0,
              "ticks": ""
             }
            },
            "type": "scattermap"
           }
          ],
          "scattermapbox": [
           {
            "marker": {
             "colorbar": {
              "outlinewidth": 0,
              "ticks": ""
             }
            },
            "type": "scattermapbox"
           }
          ],
          "scatterpolar": [
           {
            "marker": {
             "colorbar": {
              "outlinewidth": 0,
              "ticks": ""
             }
            },
            "type": "scatterpolar"
           }
          ],
          "scatterpolargl": [
           {
            "marker": {
             "colorbar": {
              "outlinewidth": 0,
              "ticks": ""
             }
            },
            "type": "scatterpolargl"
           }
          ],
          "scatterternary": [
           {
            "marker": {
             "colorbar": {
              "outlinewidth": 0,
              "ticks": ""
             }
            },
            "type": "scatterternary"
           }
          ],
          "surface": [
           {
            "colorbar": {
             "outlinewidth": 0,
             "ticks": ""
            },
            "colorscale": [
             [
              0,
              "#0d0887"
             ],
             [
              0.1111111111111111,
              "#46039f"
             ],
             [
              0.2222222222222222,
              "#7201a8"
             ],
             [
              0.3333333333333333,
              "#9c179e"
             ],
             [
              0.4444444444444444,
              "#bd3786"
             ],
             [
              0.5555555555555556,
              "#d8576b"
             ],
             [
              0.6666666666666666,
              "#ed7953"
             ],
             [
              0.7777777777777778,
              "#fb9f3a"
             ],
             [
              0.8888888888888888,
              "#fdca26"
             ],
             [
              1,
              "#f0f921"
             ]
            ],
            "type": "surface"
           }
          ],
          "table": [
           {
            "cells": {
             "fill": {
              "color": "#EBF0F8"
             },
             "line": {
              "color": "white"
             }
            },
            "header": {
             "fill": {
              "color": "#C8D4E3"
             },
             "line": {
              "color": "white"
             }
            },
            "type": "table"
           }
          ]
         },
         "layout": {
          "annotationdefaults": {
           "arrowcolor": "#2a3f5f",
           "arrowhead": 0,
           "arrowwidth": 1
          },
          "autotypenumbers": "strict",
          "coloraxis": {
           "colorbar": {
            "outlinewidth": 0,
            "ticks": ""
           }
          },
          "colorscale": {
           "diverging": [
            [
             0,
             "#8e0152"
            ],
            [
             0.1,
             "#c51b7d"
            ],
            [
             0.2,
             "#de77ae"
            ],
            [
             0.3,
             "#f1b6da"
            ],
            [
             0.4,
             "#fde0ef"
            ],
            [
             0.5,
             "#f7f7f7"
            ],
            [
             0.6,
             "#e6f5d0"
            ],
            [
             0.7,
             "#b8e186"
            ],
            [
             0.8,
             "#7fbc41"
            ],
            [
             0.9,
             "#4d9221"
            ],
            [
             1,
             "#276419"
            ]
           ],
           "sequential": [
            [
             0,
             "#0d0887"
            ],
            [
             0.1111111111111111,
             "#46039f"
            ],
            [
             0.2222222222222222,
             "#7201a8"
            ],
            [
             0.3333333333333333,
             "#9c179e"
            ],
            [
             0.4444444444444444,
             "#bd3786"
            ],
            [
             0.5555555555555556,
             "#d8576b"
            ],
            [
             0.6666666666666666,
             "#ed7953"
            ],
            [
             0.7777777777777778,
             "#fb9f3a"
            ],
            [
             0.8888888888888888,
             "#fdca26"
            ],
            [
             1,
             "#f0f921"
            ]
           ],
           "sequentialminus": [
            [
             0,
             "#0d0887"
            ],
            [
             0.1111111111111111,
             "#46039f"
            ],
            [
             0.2222222222222222,
             "#7201a8"
            ],
            [
             0.3333333333333333,
             "#9c179e"
            ],
            [
             0.4444444444444444,
             "#bd3786"
            ],
            [
             0.5555555555555556,
             "#d8576b"
            ],
            [
             0.6666666666666666,
             "#ed7953"
            ],
            [
             0.7777777777777778,
             "#fb9f3a"
            ],
            [
             0.8888888888888888,
             "#fdca26"
            ],
            [
             1,
             "#f0f921"
            ]
           ]
          },
          "colorway": [
           "#636efa",
           "#EF553B",
           "#00cc96",
           "#ab63fa",
           "#FFA15A",
           "#19d3f3",
           "#FF6692",
           "#B6E880",
           "#FF97FF",
           "#FECB52"
          ],
          "font": {
           "color": "#2a3f5f"
          },
          "geo": {
           "bgcolor": "white",
           "lakecolor": "white",
           "landcolor": "#E5ECF6",
           "showlakes": true,
           "showland": true,
           "subunitcolor": "white"
          },
          "hoverlabel": {
           "align": "left"
          },
          "hovermode": "closest",
          "mapbox": {
           "style": "light"
          },
          "paper_bgcolor": "white",
          "plot_bgcolor": "#E5ECF6",
          "polar": {
           "angularaxis": {
            "gridcolor": "white",
            "linecolor": "white",
            "ticks": ""
           },
           "bgcolor": "#E5ECF6",
           "radialaxis": {
            "gridcolor": "white",
            "linecolor": "white",
            "ticks": ""
           }
          },
          "scene": {
           "xaxis": {
            "backgroundcolor": "#E5ECF6",
            "gridcolor": "white",
            "gridwidth": 2,
            "linecolor": "white",
            "showbackground": true,
            "ticks": "",
            "zerolinecolor": "white"
           },
           "yaxis": {
            "backgroundcolor": "#E5ECF6",
            "gridcolor": "white",
            "gridwidth": 2,
            "linecolor": "white",
            "showbackground": true,
            "ticks": "",
            "zerolinecolor": "white"
           },
           "zaxis": {
            "backgroundcolor": "#E5ECF6",
            "gridcolor": "white",
            "gridwidth": 2,
            "linecolor": "white",
            "showbackground": true,
            "ticks": "",
            "zerolinecolor": "white"
           }
          },
          "shapedefaults": {
           "line": {
            "color": "#2a3f5f"
           }
          },
          "ternary": {
           "aaxis": {
            "gridcolor": "white",
            "linecolor": "white",
            "ticks": ""
           },
           "baxis": {
            "gridcolor": "white",
            "linecolor": "white",
            "ticks": ""
           },
           "bgcolor": "#E5ECF6",
           "caxis": {
            "gridcolor": "white",
            "linecolor": "white",
            "ticks": ""
           }
          },
          "title": {
           "x": 0.05
          },
          "xaxis": {
           "automargin": true,
           "gridcolor": "white",
           "linecolor": "white",
           "ticks": "",
           "title": {
            "standoff": 15
           },
           "zerolinecolor": "white",
           "zerolinewidth": 2
          },
          "yaxis": {
           "automargin": true,
           "gridcolor": "white",
           "linecolor": "white",
           "ticks": "",
           "title": {
            "standoff": 15
           },
           "zerolinecolor": "white",
           "zerolinewidth": 2
          }
         }
        },
        "title": {
         "text": "Secondary School Net Enrollment Rate by Region"
        },
        "xaxis": {
         "anchor": "y",
         "domain": [
          0,
          1
         ],
         "title": {
          "text": "Region"
         }
        },
        "yaxis": {
         "anchor": "x",
         "domain": [
          0,
          1
         ],
         "title": {
          "text": "Secondary Enrollment Rate (%)"
         }
        }
       }
      }
     },
     "metadata": {},
     "output_type": "display_data"
    }
   ],
   "source": [
    "# Primary enrollment analysis by region\n",
    "if 'SE.PRM.NENR' in features_df.columns:\n",
    "    fig = px.box(\n",
    "        features_df.dropna(subset=['SE.PRM.NENR']), \n",
    "        x='region', \n",
    "        y='SE.PRM.NENR',\n",
    "        title='Primary School Net Enrollment Rate by Region',\n",
    "        labels={'SE.PRM.NENR': 'Primary Enrollment Rate (%)', 'region': 'Region'}\n",
    "    )\n",
    "    fig.update_layout(height=500)\n",
    "    fig.show()\n",
    "\n",
    "# Secondary enrollment analysis\n",
    "if 'SE.SEC.NENR' in features_df.columns:\n",
    "    fig = px.box(\n",
    "        features_df.dropna(subset=['SE.SEC.NENR']), \n",
    "        x='region', \n",
    "        y='SE.SEC.NENR',\n",
    "        title='Secondary School Net Enrollment Rate by Region',\n",
    "        labels={'SE.SEC.NENR': 'Secondary Enrollment Rate (%)', 'region': 'Region'}\n",
    "    )\n",
    "    fig.update_layout(height=500)\n",
    "    fig.show()"
   ]
  },
  {
   "cell_type": "markdown",
   "metadata": {},
   "source": [
    "**Key Findings: Primary School Enrollment Analysis**\n",
    "\n",
    "**Best Performing Region:**\n",
    "\n",
    "East Africa shows the highest median enrollment (~87%) with relatively consistent performance across countries\n",
    "\n",
    "**Regional Performance:**\n",
    "Southern Africa: High median (~88%) but with more variation between countries\n",
    "Central Africa: Moderate performance (~78% median) with wide variation (62-94%)\n",
    "West Africa: Lowest and most concerning performance (~67% median) with the widest range (54-89%)\n",
    "\n",
    "**Key Insights:**\n",
    "West Africa faces the biggest challenge - lowest enrollment rates and highest inequality between countries\n",
    "East Africa demonstrates consistency - not only high rates but also more uniform access across the region\n",
    "All regions show significant within-region disparities - indicating that even within the same geographical area, some countries are performing much better than others\n",
    "\n",
    "**Policy Implications:**\n",
    "West African countries need urgent intervention to improve primary school access\n",
    "Best practices from high-performing East African countries could be shared regionally\n",
    "The wide variations within regions suggest country-specific factors (governance, resources, conflict) play a major role beyond geographical location"
   ]
  },
  {
   "cell_type": "markdown",
   "metadata": {},
   "source": [
    "**Key Findings: Secondary School Enrollment Analysis**\n",
    "\n",
    "Southern Africa leads in secondary enrollment despite having some very low-performing countries (outliers at ~17%)\n",
    "Central Africa struggles most - lowest median AND most countries clustered in the 15-25% range\n",
    "Dramatic regional differences: Southern Africa's median is nearly 2x higher than Central Africa's\n",
    "\n",
    "**High-performing outliers:** Southern Africa has countries reaching 72% and 90% - showing what's possible with the right policies\n",
    "East Africa's surprising decline: From being the primary education leader to third place in secondary education\n",
    "\n",
    "**Key Insight:** The transition from primary to secondary education is where the biggest educational crisis occurs across all regions, but Southern African countries are handling this transition better than others, despite still losing most students between levels."
   ]
  },
  {
   "cell_type": "markdown",
   "metadata": {},
   "source": [
    "## 4. Gender Disparity Analysis"
   ]
  },
  {
   "cell_type": "code",
   "execution_count": 13,
   "metadata": {},
   "outputs": [
    {
     "name": "stdout",
     "output_type": "stream",
     "text": [
      "=== PROCESSING PRIMARY ENROLLMENT ===\n",
      "Valid data points across all years: 112\n",
      "Sample data:\n",
      "   country_code  year  SE.PRM.NENR.FE  SE.PRM.NENR.MA\n",
      "0           AGO  2010        68.62343        83.07248\n",
      "1           AGO  2011        67.27698        88.90347\n",
      "15          BDI  2010        96.42535        94.32479\n",
      "22          BDI  2017        96.35943        93.40181\n",
      "23          BDI  2018        94.09198        91.52725\n",
      "Female data range: (np.float64(47.99076), np.float64(99.47912))\n",
      "Male data range: (np.float64(59.12628), np.float64(98.67048))\n",
      "Average gender parity ratio: 0.960\n",
      "Countries with near gender parity (>=0.95): 70/112\n",
      "\n",
      "=== PROCESSING SECONDARY ENROLLMENT ===\n",
      "Valid data points across all years: 95\n",
      "Sample data:\n",
      "   country_code  year  SE.SEC.NENR.FE  SE.SEC.NENR.MA\n",
      "0           AGO  2010        10.07569        12.52422\n",
      "15          BDI  2010        13.68895        16.67038\n",
      "16          BDI  2011        15.45501        18.32535\n",
      "17          BDI  2012        17.44259        19.40508\n",
      "18          BDI  2013        21.05094        21.75269\n",
      "Female data range: (np.float64(9.11368), np.float64(89.8737))\n",
      "Male data range: (np.float64(12.52422), np.float64(91.20397))\n",
      "Average gender parity ratio: 0.987\n",
      "Countries with near gender parity (>=0.95): 56/95\n",
      "\n",
      "=== PROCESSING PRIMARY COMPLETION ===\n",
      "Valid data points across all years: 233\n",
      "Sample data:\n",
      "   country_code  year  SE.PRM.CMPT.FE.ZS  SE.PRM.CMPT.MA.ZS\n",
      "0           AGO  2010          36.219238          48.372688\n",
      "1           AGO  2011          35.863651          62.360710\n",
      "11          AGO  2021          59.030548          60.212971\n",
      "12          AGO  2022          60.200428          61.855335\n",
      "15          BDI  2010          53.586578          55.921391\n",
      "Female data range: (np.float64(23.6906509399414), np.float64(102.645027160645))\n",
      "Male data range: (np.float64(38.8999786376953), np.float64(102.945243835449))\n",
      "Average gender parity ratio: 0.989\n",
      "Countries with near gender parity (>=0.95): 156/233\n",
      "\n",
      "=== PROCESSING ADULT LITERACY ===\n",
      "Valid data points across all years: 103\n",
      "Sample data:\n",
      "   country_code  year  SE.ADT.LITR.FE.ZS  SE.ADT.LITR.MA.ZS\n",
      "4           AGO  2014          53.000000          80.000000\n",
      "5           AGO  2015          51.925980          83.772774\n",
      "12          AGO  2022          62.500000          82.800003\n",
      "19          BDI  2014          55.000000          70.000000\n",
      "21          BDI  2016          59.440681          73.296989\n",
      "Female data range: (np.float64(13.9334096908569), np.float64(95.0))\n",
      "Male data range: (np.float64(31.0), np.float64(96.0))\n",
      "Average gender parity ratio: 0.790\n",
      "Countries with near gender parity (>=0.95): 24/103\n",
      "\n"
     ]
    },
    {
     "data": {
      "image/png": "[encoded data removed]",
      "text/plain": [
       "<Figure size 1500x1200 with 4 Axes>"
      ]
     },
     "metadata": {},
     "output_type": "display_data"
    },
    {
     "name": "stdout",
     "output_type": "stream",
     "text": [
      "=== GENDER PARITY SUMMARY ===\n",
      "\n",
      "Primary Enrollment:\n",
      "  Data points: 112\n",
      "  Average parity ratio: 0.960\n",
      "  Countries with female advantage (>1.0): 51\n",
      "  Countries with male advantage (<1.0): 61\n",
      "  Countries with near parity (0.95-1.05): 61\n",
      "\n",
      "Secondary Enrollment:\n",
      "  Data points: 95\n",
      "  Average parity ratio: 0.987\n",
      "  Countries with female advantage (>1.0): 40\n",
      "  Countries with male advantage (<1.0): 55\n",
      "  Countries with near parity (0.95-1.05): 29\n",
      "\n",
      "Primary Completion:\n",
      "  Data points: 233\n",
      "  Average parity ratio: 0.989\n",
      "  Countries with female advantage (>1.0): 109\n",
      "  Countries with male advantage (<1.0): 124\n",
      "  Countries with near parity (0.95-1.05): 74\n",
      "\n",
      "Adult Literacy:\n",
      "  Data points: 103\n",
      "  Average parity ratio: 0.790\n",
      "  Countries with female advantage (>1.0): 9\n",
      "  Countries with male advantage (<1.0): 94\n",
      "  Countries with near parity (0.95-1.05): 21\n"
     ]
    }
   ],
   "source": [
    "gender_indicators = {\n",
    "    'Primary Enrollment': ['SE.PRM.NENR.FE', 'SE.PRM.NENR.MA'],\n",
    "    'Secondary Enrollment': ['SE.SEC.NENR.FE', 'SE.SEC.NENR.MA'],\n",
    "    'Primary Completion': ['SE.PRM.CMPT.FE.ZS', 'SE.PRM.CMPT.MA.ZS'],\n",
    "    'Adult Literacy': ['SE.ADT.LITR.FE.ZS', 'SE.ADT.LITR.MA.ZS']\n",
    "}\n",
    "\n",
    "# Create gender comparison plots\n",
    "fig, axes = plt.subplots(2, 2, figsize=(15, 12))\n",
    "axes = axes.flatten()\n",
    "\n",
    "for i, (indicator_name, (female_code, male_code)) in enumerate(gender_indicators.items()):\n",
    "    print(f\"=== PROCESSING {indicator_name.upper()} ===\")\n",
    "    \n",
    "    # Check if columns exist\n",
    "    if female_code in features_df.columns and male_code in features_df.columns:\n",
    "        # Instead of getting latest year, get all valid data points\n",
    "        valid_data = features_df.dropna(subset=[female_code, male_code])\n",
    "        print(f\"Valid data points across all years: {len(valid_data)}\")\n",
    "        \n",
    "        if len(valid_data) > 0:\n",
    "            # Show sample data\n",
    "            print(\"Sample data:\")\n",
    "            print(valid_data[['country_code', 'year', female_code, male_code]].head())\n",
    "            \n",
    "            # Check data ranges\n",
    "            female_range = (valid_data[female_code].min(), valid_data[female_code].max())\n",
    "            male_range = (valid_data[male_code].min(), valid_data[male_code].max())\n",
    "            print(f\"Female data range: {female_range}\")\n",
    "            print(f\"Male data range: {male_range}\")\n",
    "            \n",
    "            # Create scatter plot\n",
    "            scatter = axes[i].scatter(valid_data[male_code], valid_data[female_code], \n",
    "                                    alpha=0.6, s=50, color='blue', edgecolors='black', linewidth=0.3)\n",
    "            \n",
    "            # Add parity line\n",
    "            min_val = min(valid_data[male_code].min(), valid_data[female_code].min())\n",
    "            max_val = max(valid_data[male_code].max(), valid_data[female_code].max())\n",
    "            axes[i].plot([min_val, max_val], [min_val, max_val], 'r--', alpha=0.7, linewidth=2, label='Gender Parity Line')\n",
    "            \n",
    "            # Set labels and title\n",
    "            axes[i].set_xlabel(f'Male {indicator_name} (%)', fontsize=12)\n",
    "            axes[i].set_ylabel(f'Female {indicator_name} (%)', fontsize=12)\n",
    "            axes[i].set_title(f'Gender Parity: {indicator_name}\\n({len(valid_data)} data points)', fontsize=14, fontweight='bold')\n",
    "            axes[i].legend()\n",
    "            axes[i].grid(True, alpha=0.3)\n",
    "            \n",
    "            # Set axis limits with padding\n",
    "            padding = (max_val - min_val) * 0.1 if max_val != min_val else 5\n",
    "            axes[i].set_xlim(min_val - padding, max_val + padding)\n",
    "            axes[i].set_ylim(min_val - padding, max_val + padding)\n",
    "            \n",
    "            # Calculate and display gender parity statistics\n",
    "            parity_ratio = valid_data[female_code] / valid_data[male_code]\n",
    "            avg_parity = parity_ratio.mean()\n",
    "            countries_with_parity = (parity_ratio >= 0.95).sum()  # Within 5% of parity\n",
    "            \n",
    "            print(f\"Average gender parity ratio: {avg_parity:.3f}\")\n",
    "            print(f\"Countries with near gender parity (>=0.95): {countries_with_parity}/{len(valid_data)}\")\n",
    "            \n",
    "        else:\n",
    "            axes[i].text(0.5, 0.5, f'No valid data available\\nfor {indicator_name}', \n",
    "                        ha='center', va='center', transform=axes[i].transAxes, fontsize=12)\n",
    "            axes[i].set_title(f'Gender Parity: {indicator_name}', fontsize=14)\n",
    "            print(f\"No valid data for {indicator_name}\")\n",
    "    else:\n",
    "        axes[i].text(0.5, 0.5, f'Missing columns\\nfor {indicator_name}', \n",
    "                    ha='center', va='center', transform=axes[i].transAxes, fontsize=12)\n",
    "        axes[i].set_title(f'Gender Parity: {indicator_name}', fontsize=14)\n",
    "        print(f\"Missing columns for {indicator_name}\")\n",
    "    \n",
    "    print()  # Empty line for readability\n",
    "\n",
    "plt.tight_layout()\n",
    "plt.show()\n",
    "\n",
    "# Summary statistics for gender parity\n",
    "print(\"=== GENDER PARITY SUMMARY ===\")\n",
    "for indicator_name, (female_code, male_code) in gender_indicators.items():\n",
    "    if female_code in features_df.columns and male_code in features_df.columns:\n",
    "        valid_data = features_df.dropna(subset=[female_code, male_code])\n",
    "        if len(valid_data) > 0:\n",
    "            parity_ratio = valid_data[female_code] / valid_data[male_code]\n",
    "            print(f\"\\n{indicator_name}:\")\n",
    "            print(f\"  Data points: {len(valid_data)}\")\n",
    "            print(f\"  Average parity ratio: {parity_ratio.mean():.3f}\")\n",
    "            print(f\"  Countries with female advantage (>1.0): {(parity_ratio > 1.0).sum()}\")\n",
    "            print(f\"  Countries with male advantage (<1.0): {(parity_ratio < 1.0).sum()}\")\n",
    "            print(f\"  Countries with near parity (0.95-1.05): {((parity_ratio >= 0.95) & (parity_ratio <= 1.05)).sum()}\")"
   ]
  },
  {
   "cell_type": "markdown",
   "metadata": {},
   "source": [
    "**Key Findings:**\n",
    "\n",
    "1. **Primary Enrollment (112 data points)**\n",
    "\n",
    "Average parity ratio: 0.960 - Nearly equal, with slight male advantage\n",
    "61 countries with near parity (0.95-1.05) - Good progress toward equality\n",
    "Points mostly cluster around the parity line (red dashed line)\n",
    "\n",
    "2. **Secondary Enrollment (95 data points)**\n",
    "\n",
    "Average parity ratio: 0.987 - Very close to perfect parity\n",
    "29 countries with near parity - More variation than primary level\n",
    "Shows wider spread, indicating more inequality at secondary level\n",
    "\n",
    "3. **Primary Completion (233 data points)**\n",
    "\n",
    "Average parity ratio: 0.989 - Nearly equal completion rates\n",
    "74 countries with near parity - Best performance overall\n",
    "Most data points cluster tightly around the parity line\n",
    "\n",
    "4. **Adult Literacy (103 data points)**\n",
    "\n",
    "Average parity ratio: 0.790 - Significant male advantage\n",
    "Only 21 countries with near parity - Largest gender gap\n",
    "Many points fall well below the parity line, showing historical disadvantages for women"
   ]
  },
  {
   "cell_type": "markdown",
   "metadata": {},
   "source": [
    "## 5. Temporal Trends Analysis"
   ]
  },
  {
   "cell_type": "code",
   "execution_count": 17,
   "metadata": {},
   "outputs": [
    {
     "name": "stdout",
     "output_type": "stream",
     "text": [
      "Data availability analysis:\n",
      "\n",
      "Primary Enrollment Rate (SE.PRM.NENR):\n",
      "Years with data: [np.int64(2010), np.int64(2011), np.int64(2012), np.int64(2013), np.int64(2014), np.int64(2015), np.int64(2016), np.int64(2017), np.int64(2018), np.int64(2019)]\n",
      "Year range: 2010 - 2019\n",
      "Data points per year: {2010: 16, 2011: 15, 2012: 17, 2013: 15, 2014: 12, 2015: 12, 2016: 12, 2017: 15, 2018: 9, 2019: 1}\n",
      "Regional coverage by year:\n",
      "region  Central Africa  East Africa  Southern Africa  West Africa\n",
      "year                                                             \n",
      "2010                 2            4                5            5\n",
      "2011                 4            2                4            5\n",
      "2012                 2            3                7            5\n",
      "2013                 1            2                7            5\n",
      "2014                 1            2                4            5\n",
      "2015                 2            1                4            5\n",
      "2016                 2            2                3            5\n",
      "2017                 1            3                6            5\n",
      "2018                 0            3                3            3\n",
      "2019                 0            0                0            1\n",
      "\n",
      "Secondary Enrollment Rate (SE.SEC.NENR):\n",
      "Years with data: [np.int64(2010), np.int64(2011), np.int64(2012), np.int64(2013), np.int64(2014), np.int64(2015), np.int64(2016), np.int64(2017), np.int64(2018), np.int64(2019)]\n",
      "Year range: 2010 - 2019\n",
      "Data points per year: {2010: 9, 2011: 10, 2012: 10, 2013: 10, 2014: 11, 2015: 15, 2016: 11, 2017: 10, 2018: 8, 2019: 1}\n",
      "Regional coverage by year:\n",
      "region  Central Africa  East Africa  Southern Africa  West Africa\n",
      "year                                                             \n",
      "2010                 1            1                4            3\n",
      "2011                 1            1                5            3\n",
      "2012                 2            1                6            1\n",
      "2013                 1            1                5            3\n",
      "2014                 1            2                5            3\n",
      "2015                 2            3                6            4\n",
      "2016                 2            3                3            3\n",
      "2017                 1            2                2            5\n",
      "2018                 0            3                2            3\n",
      "2019                 0            0                0            1\n",
      "\n",
      "Primary Completion Rate (SE.PRM.CMPT.ZS):\n",
      "Years with data: [np.int64(2010), np.int64(2011), np.int64(2012), np.int64(2013), np.int64(2014), np.int64(2015), np.int64(2016), np.int64(2017), np.int64(2018), np.int64(2019), np.int64(2020), np.int64(2021), np.int64(2022), np.int64(2023)]\n",
      "Year range: 2010 - 2023\n",
      "Data points per year: {2010: 22, 2011: 19, 2012: 23, 2013: 20, 2014: 19, 2015: 20, 2016: 17, 2017: 15, 2018: 13, 2019: 14, 2020: 13, 2021: 14, 2022: 14, 2023: 14}\n",
      "Regional coverage by year:\n",
      "region  Central Africa  East Africa  Southern Africa  West Africa\n",
      "year                                                             \n",
      "2010                 5            5                7            5\n",
      "2011                 5            4                5            5\n",
      "2012                 4            5                9            5\n",
      "2013                 2            4                9            5\n",
      "2014                 2            5                7            5\n",
      "2015                 3            6                6            5\n",
      "2016                 3            5                6            3\n",
      "2017                 3            4                4            4\n",
      "2018                 2            3                6            2\n",
      "2019                 1            3                7            3\n",
      "2020                 2            3                5            3\n",
      "2021                 4            2                5            3\n",
      "2022                 2            1                7            4\n",
      "2023                 2            3                5            4\n",
      "\n",
      "Secondary Completion Rate (SE.SEC.CMPT.LO.ZS):\n",
      "Years with data: [np.int64(2010), np.int64(2011), np.int64(2012), np.int64(2013), np.int64(2014), np.int64(2015), np.int64(2016), np.int64(2017), np.int64(2018), np.int64(2019), np.int64(2020), np.int64(2021), np.int64(2022), np.int64(2023)]\n",
      "Year range: 2010 - 2023\n",
      "Data points per year: {2010: 17, 2011: 16, 2012: 23, 2013: 20, 2014: 18, 2015: 16, 2016: 16, 2017: 17, 2018: 12, 2019: 14, 2020: 11, 2021: 12, 2022: 11, 2023: 11}\n",
      "Regional coverage by year:\n",
      "region  Central Africa  East Africa  Southern Africa  West Africa\n",
      "year                                                             \n",
      "2010                 2            3                7            5\n",
      "2011                 3            3                5            5\n",
      "2012                 4            5                9            5\n",
      "2013                 3            3                9            5\n",
      "2014                 2            5                6            5\n",
      "2015                 2            5                4            5\n",
      "2016                 3            5                5            3\n",
      "2017                 3            4                6            4\n",
      "2018                 2            3                4            3\n",
      "2019                 1            3                6            4\n",
      "2020                 2            2                6            1\n",
      "2021                 3            2                4            3\n",
      "2022                 1            1                6            3\n",
      "2023                 1            3                3            4\n"
     ]
    }
   ],
   "source": [
    "# Check data availability by year and indicator\n",
    "print(\"Data availability analysis:\")\n",
    "for indicator in key_indicators:\n",
    "    if indicator in features_df.columns:\n",
    "        print(f\"\\n{indicator_names[indicator]} ({indicator}):\")\n",
    "        \n",
    "        # Check years with data\n",
    "        years_with_data = features_df[features_df[indicator].notna()]['year'].unique()\n",
    "        print(f\"Years with data: {sorted(years_with_data)}\")\n",
    "        print(f\"Year range: {min(years_with_data)} - {max(years_with_data)}\")\n",
    "        \n",
    "        # Check data points per year\n",
    "        yearly_counts = features_df[features_df[indicator].notna()].groupby('year').size()\n",
    "        print(f\"Data points per year: {yearly_counts.to_dict()}\")\n",
    "        \n",
    "        # Check regional coverage by year\n",
    "        regional_coverage = features_df[features_df[indicator].notna()].groupby(['year', 'region']).size().unstack(fill_value=0)\n",
    "        print(f\"Regional coverage by year:\\n{regional_coverage}\")\n",
    "\n"
   ]
  },
  {
   "cell_type": "code",
   "execution_count": 18,
   "metadata": {},
   "outputs": [
    {
     "data": {
      "application/vnd.plotly.v1+json": {
       "config": {
        "plotlyServerURL": "https://plot.ly"
       },
       "data": [
        {
         "customdata": {
          "bdata": "AgQCAQECAgE=",
          "dtype": "i1",
          "shape": "8, 1"
         },
         "hovertemplate": "region=Central Africa<br>Year=%{x}<br>Primary Enrollment Rate (%)=%{y}<br>country_count=%{customdata[0]}<extra></extra>",
         "legendgroup": "Central Africa",
         "line": {
          "color": "#636efa",
          "dash": "solid"
         },
         "marker": {
          "symbol": "circle"
         },
         "mode": "lines+markers",
         "name": "Central Africa",
         "orientation": "v",
         "showlegend": true,
         "type": "scatter",
         "x": {
          "bdata": "2gfbB9wH3QfeB98H4AfhBw==",
          "dtype": "i2"
         },
         "xaxis": "x",
         "y": {
          "bdata": "s14M5US4UUB00vvG10NSQOmayTfbtVNAbmk1JO6FU0B/+zpwzuxWQIGyKVd4ZVVACFqBIav0VEC1FfvL7jdXQA==",
          "dtype": "f8"
         },
         "yaxis": "y"
        },
        {
         "customdata": {
          "bdata": "BAIDAgIBAgMD",
          "dtype": "i1",
          "shape": "9, 1"
         },
         "hovertemplate": "region=East Africa<br>Year=%{x}<br>Primary Enrollment Rate (%)=%{y}<br>country_count=%{customdata[0]}<extra></extra>",
         "legendgroup": "East Africa",
         "line": {
          "color": "#EF553B",
          "dash": "solid"
         },
         "marker": {
          "symbol": "circle"
         },
         "mode": "lines+markers",
         "name": "East Africa",
         "orientation": "v",
         "showlegend": true,
         "type": "scatter",
         "x": {
          "bdata": "2gfbB9wH3QfeB98H4AfhB+IH",
          "dtype": "i2"
         },
         "xaxis": "x",
         "y": {
          "bdata": "PpY+dMEGVkAsms5OBn1VQNUMltc3f1RAONbFbTRuVkAPC7WmeQ1VQE6XxcTmJ1VANl66SQzLVkAb9RCN7vJWQLPNjekJaVZA",
          "dtype": "f8"
         },
         "yaxis": "y"
        },
        {
         "customdata": {
          "bdata": "BQQHBwQEAwYD",
          "dtype": "i1",
          "shape": "9, 1"
         },
         "hovertemplate": "region=Southern Africa<br>Year=%{x}<br>Primary Enrollment Rate (%)=%{y}<br>country_count=%{customdata[0]}<extra></extra>",
         "legendgroup": "Southern Africa",
         "line": {
          "color": "#00cc96",
          "dash": "solid"
         },
         "marker": {
          "symbol": "circle"
         },
         "mode": "lines+markers",
         "name": "Southern Africa",
         "orientation": "v",
         "showlegend": true,
         "type": "scatter",
         "x": {
          "bdata": "2gfbB9wH3QfeB98H4AfhB+IH",
          "dtype": "i2"
         },
         "xaxis": "x",
         "y": {
          "bdata": "BTbn4JkkVkB2ieqtARtWQGp1NTiPjlZANx7uJ6RZVkDElEiil+JVQG4vaYxWylVA9+Ez7AoiVkDo3sMlxzdWQATv0Qgj61dA",
          "dtype": "f8"
         },
         "yaxis": "y"
        },
        {
         "customdata": {
          "bdata": "BQUFBQUFBQUDAQ==",
          "dtype": "i1",
          "shape": "10, 1"
         },
         "hovertemplate": "region=West Africa<br>Year=%{x}<br>Primary Enrollment Rate (%)=%{y}<br>country_count=%{customdata[0]}<extra></extra>",
         "legendgroup": "West Africa",
         "line": {
          "color": "#ab63fa",
          "dash": "solid"
         },
         "marker": {
          "symbol": "circle"
         },
         "mode": "lines+markers",
         "name": "West Africa",
         "orientation": "v",
         "showlegend": true,
         "type": "scatter",
         "x": {
          "bdata": "2gfbB9wH3QfeB98H4AfhB+IH4wc=",
          "dtype": "i2"
         },
         "xaxis": "x",
         "y": {
          "bdata": "XXNH/8tlT0D2X+emzRBRQFoUdlH0IFFAdXlzuFY1UUAgXtcv2GVRQGZMwRpnfVFACr/Uz5vIUUAf1EUKZStSQIKgtiBugVJAwM+4cCCKVUA=",
          "dtype": "f8"
         },
         "yaxis": "y"
        }
       ],
       "layout": {
        "annotations": [
         {
          "bgcolor": "rgba(255,255,255,0.8)",
          "font": {
           "color": "gray",
           "size": 10
          },
          "showarrow": false,
          "text": "Total observations: 124 | Years: 10 | Regions: 4",
          "x": 0.02,
          "xref": "paper",
          "y": 0.98,
          "yref": "paper"
         }
        ],
        "height": 500,
        "hovermode": "x unified",
        "legend": {
         "orientation": "h",
         "title": {
          "text": "region"
         },
         "tracegroupgap": 0,
         "x": 1,
         "xanchor": "right",
         "y": 1.02,
         "yanchor": "bottom"
        },
        "template": {
         "data": {
          "bar": [
           {
            "error_x": {
             "color": "#2a3f5f"
            },
            "error_y": {
             "color": "#2a3f5f"
            },
            "marker": {
             "line": {
              "color": "#E5ECF6",
              "width": 0.5
             },
             "pattern": {
              "fillmode": "overlay",
              "size": 10,
              "solidity": 0.2
             }
            },
            "type": "bar"
           }
          ],
          "barpolar": [
           {
            "marker": {
             "line": {
              "color": "#E5ECF6",
              "width": 0.5
             },
             "pattern": {
              "fillmode": "overlay",
              "size": 10,
              "solidity": 0.2
             }
            },
            "type": "barpolar"
           }
          ],
          "carpet": [
           {
            "aaxis": {
             "endlinecolor": "#2a3f5f",
             "gridcolor": "white",
             "linecolor": "white",
             "minorgridcolor": "white",
             "startlinecolor": "#2a3f5f"
            },
            "baxis": {
             "endlinecolor": "#2a3f5f",
             "gridcolor": "white",
             "linecolor": "white",
             "minorgridcolor": "white",
             "startlinecolor": "#2a3f5f"
            },
            "type": "carpet"
           }
          ],
          "choropleth": [
           {
            "colorbar": {
             "outlinewidth": 0,
             "ticks": ""
            },
            "type": "choropleth"
           }
          ],
          "contour": [
           {
            "colorbar": {
             "outlinewidth": 0,
             "ticks": ""
            },
            "colorscale": [
             [
              0,
              "#0d0887"
             ],
             [
              0.1111111111111111,
              "#46039f"
             ],
             [
              0.2222222222222222,
              "#7201a8"
             ],
             [
              0.3333333333333333,
              "#9c179e"
             ],
             [
              0.4444444444444444,
              "#bd3786"
             ],
             [
              0.5555555555555556,
              "#d8576b"
             ],
             [
              0.6666666666666666,
              "#ed7953"
             ],
             [
              0.7777777777777778,
              "#fb9f3a"
             ],
             [
              0.8888888888888888,
              "#fdca26"
             ],
             [
              1,
              "#f0f921"
             ]
            ],
            "type": "contour"
           }
          ],
          "contourcarpet": [
           {
            "colorbar": {
             "outlinewidth": 0,
             "ticks": ""
            },
            "type": "contourcarpet"
           }
          ],
          "heatmap": [
           {
            "colorbar": {
             "outlinewidth": 0,
             "ticks": ""
            },
            "colorscale": [
             [
              0,
              "#0d0887"
             ],
             [
              0.1111111111111111,
              "#46039f"
             ],
             [
              0.2222222222222222,
              "#7201a8"
             ],
             [
              0.3333333333333333,
              "#9c179e"
             ],
             [
              0.4444444444444444,
              "#bd3786"
             ],
             [
              0.5555555555555556,
              "#d8576b"
             ],
             [
              0.6666666666666666,
              "#ed7953"
             ],
             [
              0.7777777777777778,
              "#fb9f3a"
             ],
             [
              0.8888888888888888,
              "#fdca26"
             ],
             [
              1,
              "#f0f921"
             ]
            ],
            "type": "heatmap"
           }
          ],
          "histogram": [
           {
            "marker": {
             "pattern": {
              "fillmode": "overlay",
              "size": 10,
              "solidity": 0.2
             }
            },
            "type": "histogram"
           }
          ],
          "histogram2d": [
           {
            "colorbar": {
             "outlinewidth": 0,
             "ticks": ""
            },
            "colorscale": [
             [
              0,
              "#0d0887"
             ],
             [
              0.1111111111111111,
              "#46039f"
             ],
             [
              0.2222222222222222,
              "#7201a8"
             ],
             [
              0.3333333333333333,
              "#9c179e"
             ],
             [
              0.4444444444444444,
              "#bd3786"
             ],
             [
              0.5555555555555556,
              "#d8576b"
             ],
             [
              0.6666666666666666,
              "#ed7953"
             ],
             [
              0.7777777777777778,
              "#fb9f3a"
             ],
             [
              0.8888888888888888,
              "#fdca26"
             ],
             [
              1,
              "#f0f921"
             ]
            ],
            "type": "histogram2d"
           }
          ],
          "histogram2dcontour": [
           {
            "colorbar": {
             "outlinewidth": 0,
             "ticks": ""
            },
            "colorscale": [
             [
              0,
              "#0d0887"
             ],
             [
              0.1111111111111111,
              "#46039f"
             ],
             [
              0.2222222222222222,
              "#7201a8"
             ],
             [
              0.3333333333333333,
              "#9c179e"
             ],
             [
              0.4444444444444444,
              "#bd3786"
             ],
             [
              0.5555555555555556,
              "#d8576b"
             ],
             [
              0.6666666666666666,
              "#ed7953"
             ],
             [
              0.7777777777777778,
              "#fb9f3a"
             ],
             [
              0.8888888888888888,
              "#fdca26"
             ],
             [
              1,
              "#f0f921"
             ]
            ],
            "type": "histogram2dcontour"
           }
          ],
          "mesh3d": [
           {
            "colorbar": {
             "outlinewidth": 0,
             "ticks": ""
            },
            "type": "mesh3d"
           }
          ],
          "parcoords": [
           {
            "line": {
             "colorbar": {
              "outlinewidth": 0,
              "ticks": ""
             }
            },
            "type": "parcoords"
           }
          ],
          "pie": [
           {
            "automargin": true,
            "type": "pie"
           }
          ],
          "scatter": [
           {
            "fillpattern": {
             "fillmode": "overlay",
             "size": 10,
             "solidity": 0.2
            },
            "type": "scatter"
           }
          ],
          "scatter3d": [
           {
            "line": {
             "colorbar": {
              "outlinewidth": 0,
              "ticks": ""
             }
            },
            "marker": {
             "colorbar": {
              "outlinewidth": 0,
              "ticks": ""
             }
            },
            "type": "scatter3d"
           }
          ],
          "scattercarpet": [
           {
            "marker": {
             "colorbar": {
              "outlinewidth": 0,
              "ticks": ""
             }
            },
            "type": "scattercarpet"
           }
          ],
          "scattergeo": [
           {
            "marker": {
             "colorbar": {
              "outlinewidth": 0,
              "ticks": ""
             }
            },
            "type": "scattergeo"
           }
          ],
          "scattergl": [
           {
            "marker": {
             "colorbar": {
              "outlinewidth": 0,
              "ticks": ""
             }
            },
            "type": "scattergl"
           }
          ],
          "scattermap": [
           {
            "marker": {
             "colorbar": {
              "outlinewidth": 0,
              "ticks": ""
             }
            },
            "type": "scattermap"
           }
          ],
          "scattermapbox": [
           {
            "marker": {
             "colorbar": {
              "outlinewidth": 0,
              "ticks": ""
             }
            },
            "type": "scattermapbox"
           }
          ],
          "scatterpolar": [
           {
            "marker": {
             "colorbar": {
              "outlinewidth": 0,
              "ticks": ""
             }
            },
            "type": "scatterpolar"
           }
          ],
          "scatterpolargl": [
           {
            "marker": {
             "colorbar": {
              "outlinewidth": 0,
              "ticks": ""
             }
            },
            "type": "scatterpolargl"
           }
          ],
          "scatterternary": [
           {
            "marker": {
             "colorbar": {
              "outlinewidth": 0,
              "ticks": ""
             }
            },
            "type": "scatterternary"
           }
          ],
          "surface": [
           {
            "colorbar": {
             "outlinewidth": 0,
             "ticks": ""
            },
            "colorscale": [
             [
              0,
              "#0d0887"
             ],
             [
              0.1111111111111111,
              "#46039f"
             ],
             [
              0.2222222222222222,
              "#7201a8"
             ],
             [
              0.3333333333333333,
              "#9c179e"
             ],
             [
              0.4444444444444444,
              "#bd3786"
             ],
             [
              0.5555555555555556,
              "#d8576b"
             ],
             [
              0.6666666666666666,
              "#ed7953"
             ],
             [
              0.7777777777777778,
              "#fb9f3a"
             ],
             [
              0.8888888888888888,
              "#fdca26"
             ],
             [
              1,
              "#f0f921"
             ]
            ],
            "type": "surface"
           }
          ],
          "table": [
           {
            "cells": {
             "fill": {
              "color": "#EBF0F8"
             },
             "line": {
              "color": "white"
             }
            },
            "header": {
             "fill": {
              "color": "#C8D4E3"
             },
             "line": {
              "color": "white"
             }
            },
            "type": "table"
           }
          ]
         },
         "layout": {
          "annotationdefaults": {
           "arrowcolor": "#2a3f5f",
           "arrowhead": 0,
           "arrowwidth": 1
          },
          "autotypenumbers": "strict",
          "coloraxis": {
           "colorbar": {
            "outlinewidth": 0,
            "ticks": ""
           }
          },
          "colorscale": {
           "diverging": [
            [
             0,
             "#8e0152"
            ],
            [
             0.1,
             "#c51b7d"
            ],
            [
             0.2,
             "#de77ae"
            ],
            [
             0.3,
             "#f1b6da"
            ],
            [
             0.4,
             "#fde0ef"
            ],
            [
             0.5,
             "#f7f7f7"
            ],
            [
             0.6,
             "#e6f5d0"
            ],
            [
             0.7,
             "#b8e186"
            ],
            [
             0.8,
             "#7fbc41"
            ],
            [
             0.9,
             "#4d9221"
            ],
            [
             1,
             "#276419"
            ]
           ],
           "sequential": [
            [
             0,
             "#0d0887"
            ],
            [
             0.1111111111111111,
             "#46039f"
            ],
            [
             0.2222222222222222,
             "#7201a8"
            ],
            [
             0.3333333333333333,
             "#9c179e"
            ],
            [
             0.4444444444444444,
             "#bd3786"
            ],
            [
             0.5555555555555556,
             "#d8576b"
            ],
            [
             0.6666666666666666,
             "#ed7953"
            ],
            [
             0.7777777777777778,
             "#fb9f3a"
            ],
            [
             0.8888888888888888,
             "#fdca26"
            ],
            [
             1,
             "#f0f921"
            ]
           ],
           "sequentialminus": [
            [
             0,
             "#0d0887"
            ],
            [
             0.1111111111111111,
             "#46039f"
            ],
            [
             0.2222222222222222,
             "#7201a8"
            ],
            [
             0.3333333333333333,
             "#9c179e"
            ],
            [
             0.4444444444444444,
             "#bd3786"
            ],
            [
             0.5555555555555556,
             "#d8576b"
            ],
            [
             0.6666666666666666,
             "#ed7953"
            ],
            [
             0.7777777777777778,
             "#fb9f3a"
            ],
            [
             0.8888888888888888,
             "#fdca26"
            ],
            [
             1,
             "#f0f921"
            ]
           ]
          },
          "colorway": [
           "#636efa",
           "#EF553B",
           "#00cc96",
           "#ab63fa",
           "#FFA15A",
           "#19d3f3",
           "#FF6692",
           "#B6E880",
           "#FF97FF",
           "#FECB52"
          ],
          "font": {
           "color": "#2a3f5f"
          },
          "geo": {
           "bgcolor": "white",
           "lakecolor": "white",
           "landcolor": "#E5ECF6",
           "showlakes": true,
           "showland": true,
           "subunitcolor": "white"
          },
          "hoverlabel": {
           "align": "left"
          },
          "hovermode": "closest",
          "mapbox": {
           "style": "light"
          },
          "paper_bgcolor": "white",
          "plot_bgcolor": "#E5ECF6",
          "polar": {
           "angularaxis": {
            "gridcolor": "white",
            "linecolor": "white",
            "ticks": ""
           },
           "bgcolor": "#E5ECF6",
           "radialaxis": {
            "gridcolor": "white",
            "linecolor": "white",
            "ticks": ""
           }
          },
          "scene": {
           "xaxis": {
            "backgroundcolor": "#E5ECF6",
            "gridcolor": "white",
            "gridwidth": 2,
            "linecolor": "white",
            "showbackground": true,
            "ticks": "",
            "zerolinecolor": "white"
           },
           "yaxis": {
            "backgroundcolor": "#E5ECF6",
            "gridcolor": "white",
            "gridwidth": 2,
            "linecolor": "white",
            "showbackground": true,
            "ticks": "",
            "zerolinecolor": "white"
           },
           "zaxis": {
            "backgroundcolor": "#E5ECF6",
            "gridcolor": "white",
            "gridwidth": 2,
            "linecolor": "white",
            "showbackground": true,
            "ticks": "",
            "zerolinecolor": "white"
           }
          },
          "shapedefaults": {
           "line": {
            "color": "#2a3f5f"
           }
          },
          "ternary": {
           "aaxis": {
            "gridcolor": "white",
            "linecolor": "white",
            "ticks": ""
           },
           "baxis": {
            "gridcolor": "white",
            "linecolor": "white",
            "ticks": ""
           },
           "bgcolor": "#E5ECF6",
           "caxis": {
            "gridcolor": "white",
            "linecolor": "white",
            "ticks": ""
           }
          },
          "title": {
           "x": 0.05
          },
          "xaxis": {
           "automargin": true,
           "gridcolor": "white",
           "linecolor": "white",
           "ticks": "",
           "title": {
            "standoff": 15
           },
           "zerolinecolor": "white",
           "zerolinewidth": 2
          },
          "yaxis": {
           "automargin": true,
           "gridcolor": "white",
           "linecolor": "white",
           "ticks": "",
           "title": {
            "standoff": 15
           },
           "zerolinecolor": "white",
           "zerolinewidth": 2
          }
         }
        },
        "title": {
         "text": "Primary Enrollment Rate Trends by Region (2010-2019)"
        },
        "xaxis": {
         "anchor": "y",
         "domain": [
          0,
          1
         ],
         "gridcolor": "lightgray",
         "gridwidth": 1,
         "showgrid": true,
         "title": {
          "text": "Year"
         }
        },
        "yaxis": {
         "anchor": "x",
         "domain": [
          0,
          1
         ],
         "gridcolor": "lightgray",
         "gridwidth": 1,
         "showgrid": true,
         "title": {
          "text": "Primary Enrollment Rate (%)"
         }
        }
       }
      }
     },
     "metadata": {},
     "output_type": "display_data"
    },
    {
     "name": "stdout",
     "output_type": "stream",
     "text": [
      "\n",
      "Primary Enrollment Rate Summary:\n",
      "   • Data coverage: 2010-2019\n",
      "   • Total observations: 124\n",
      "   • Peak year: 2012 (17 countries)\n",
      "   • Recent year: 2019 (1 countries)\n"
     ]
    },
    {
     "data": {
      "application/vnd.plotly.v1+json": {
       "config": {
        "plotlyServerURL": "https://plot.ly"
       },
       "data": [
        {
         "customdata": {
          "bdata": "AQECAQECAgE=",
          "dtype": "i1",
          "shape": "8, 1"
         },
         "hovertemplate": "region=Central Africa<br>Year=%{x}<br>Secondary Enrollment Rate (%)=%{y}<br>country_count=%{customdata[0]}<extra></extra>",
         "legendgroup": "Central Africa",
         "line": {
          "color": "#636efa",
          "dash": "solid"
         },
         "marker": {
          "symbol": "circle"
         },
         "mode": "lines+markers",
         "name": "Central Africa",
         "orientation": "v",
         "showlegend": true,
         "type": "scatter",
         "x": {
          "bdata": "2gfbB9wH3QfeB98H4AfhBw==",
          "dtype": "i2"
         },
         "xaxis": "x",
         "y": {
          "bdata": "otEdxM6UJkClSSno9qIrQJ4kXTP5ojpAbagY52+CREDeq1Ym/PpFQAqi7gOQuj9AnG1uTE82QEBUbw1slXApQA==",
          "dtype": "f8"
         },
         "yaxis": "y"
        },
        {
         "customdata": {
          "bdata": "AQEBAQIDAwID",
          "dtype": "i1",
          "shape": "9, 1"
         },
         "hovertemplate": "region=East Africa<br>Year=%{x}<br>Secondary Enrollment Rate (%)=%{y}<br>country_count=%{customdata[0]}<extra></extra>",
         "legendgroup": "East Africa",
         "line": {
          "color": "#EF553B",
          "dash": "solid"
         },
         "marker": {
          "symbol": "circle"
         },
         "mode": "lines+markers",
         "name": "East Africa",
         "orientation": "v",
         "showlegend": true,
         "type": "scatter",
         "x": {
          "bdata": "2gfbB9wH3QfeB98H4AfhB+IH",
          "dtype": "i2"
         },
         "xaxis": "x",
         "y": {
          "bdata": "C2MLQQ5aLkBeukkMAuMwQN3vUBToazJAArfu5qlmNUC2LcpskAU8QDN9iYu2RT1Ag6Pk1TkWPEBo0NA/wW06QNB+pIgM+z1A",
          "dtype": "f8"
         },
         "yaxis": "y"
        },
        {
         "customdata": {
          "bdata": "BAUGBQUGAwIC",
          "dtype": "i1",
          "shape": "9, 1"
         },
         "hovertemplate": "region=Southern Africa<br>Year=%{x}<br>Secondary Enrollment Rate (%)=%{y}<br>country_count=%{customdata[0]}<extra></extra>",
         "legendgroup": "Southern Africa",
         "line": {
          "color": "#00cc96",
          "dash": "solid"
         },
         "marker": {
          "symbol": "circle"
         },
         "mode": "lines+markers",
         "name": "Southern Africa",
         "orientation": "v",
         "showlegend": true,
         "type": "scatter",
         "x": {
          "bdata": "2gfbB9wH3QfeB98H4AfhB+IH",
          "dtype": "i2"
         },
         "xaxis": "x",
         "y": {
          "bdata": "7uapDrmRPUDWbrvQXB8/QBSOM2CjQUFAqkTZW8oZQkCTbkvkgpdAQDjLUtgyfkVAWSxYvdZoQUAwnkFD/0JJQNrmxvSEBUBA",
          "dtype": "f8"
         },
         "yaxis": "y"
        },
        {
         "customdata": {
          "bdata": "AwMBAwMEAwUDAQ==",
          "dtype": "i1",
          "shape": "10, 1"
         },
         "hovertemplate": "region=West Africa<br>Year=%{x}<br>Secondary Enrollment Rate (%)=%{y}<br>country_count=%{customdata[0]}<extra></extra>",
         "legendgroup": "West Africa",
         "line": {
          "color": "#ab63fa",
          "dash": "solid"
         },
         "marker": {
          "symbol": "circle"
         },
         "mode": "lines+markers",
         "name": "West Africa",
         "orientation": "v",
         "showlegend": true,
         "type": "scatter",
         "x": {
          "bdata": "2gfbB9wH3QfeB98H4AfhB+IH4wc=",
          "dtype": "i2"
         },
         "xaxis": "x",
         "y": {
          "bdata": "VpqUgm5XM0C7qzH7T6k0QOYivhOzvjNATZzc71DoQUD7MivuUg1BQAfOGVHaQ0BA52f9QMxYQ0CKzce1oSpBQPts94Vq3UNAgSGrWz2fTEA=",
          "dtype": "f8"
         },
         "yaxis": "y"
        }
       ],
       "layout": {
        "annotations": [
         {
          "bgcolor": "rgba(255,255,255,0.8)",
          "font": {
           "color": "gray",
           "size": 10
          },
          "showarrow": false,
          "text": "Total observations: 95 | Years: 10 | Regions: 4",
          "x": 0.02,
          "xref": "paper",
          "y": 0.98,
          "yref": "paper"
         }
        ],
        "height": 500,
        "hovermode": "x unified",
        "legend": {
         "orientation": "h",
         "title": {
          "text": "region"
         },
         "tracegroupgap": 0,
         "x": 1,
         "xanchor": "right",
         "y": 1.02,
         "yanchor": "bottom"
        },
        "template": {
         "data": {
          "bar": [
           {
            "error_x": {
             "color": "#2a3f5f"
            },
            "error_y": {
             "color": "#2a3f5f"
            },
            "marker": {
             "line": {
              "color": "#E5ECF6",
              "width": 0.5
             },
             "pattern": {
              "fillmode": "overlay",
              "size": 10,
              "solidity": 0.2
             }
            },
            "type": "bar"
           }
          ],
          "barpolar": [
           {
            "marker": {
             "line": {
              "color": "#E5ECF6",
              "width": 0.5
             },
             "pattern": {
              "fillmode": "overlay",
              "size": 10,
              "solidity": 0.2
             }
            },
            "type": "barpolar"
           }
          ],
          "carpet": [
           {
            "aaxis": {
             "endlinecolor": "#2a3f5f",
             "gridcolor": "white",
             "linecolor": "white",
             "minorgridcolor": "white",
             "startlinecolor": "#2a3f5f"
            },
            "baxis": {
             "endlinecolor": "#2a3f5f",
             "gridcolor": "white",
             "linecolor": "white",
             "minorgridcolor": "white",
             "startlinecolor": "#2a3f5f"
            },
            "type": "carpet"
           }
          ],
          "choropleth": [
           {
            "colorbar": {
             "outlinewidth": 0,
             "ticks": ""
            },
            "type": "choropleth"
           }
          ],
          "contour": [
           {
            "colorbar": {
             "outlinewidth": 0,
             "ticks": ""
            },
            "colorscale": [
             [
              0,
              "#0d0887"
             ],
             [
              0.1111111111111111,
              "#46039f"
             ],
             [
              0.2222222222222222,
              "#7201a8"
             ],
             [
              0.3333333333333333,
              "#9c179e"
             ],
             [
              0.4444444444444444,
              "#bd3786"
             ],
             [
              0.5555555555555556,
              "#d8576b"
             ],
             [
              0.6666666666666666,
              "#ed7953"
             ],
             [
              0.7777777777777778,
              "#fb9f3a"
             ],
             [
              0.8888888888888888,
              "#fdca26"
             ],
             [
              1,
              "#f0f921"
             ]
            ],
            "type": "contour"
           }
          ],
          "contourcarpet": [
           {
            "colorbar": {
             "outlinewidth": 0,
             "ticks": ""
            },
            "type": "contourcarpet"
           }
          ],
          "heatmap": [
           {
            "colorbar": {
             "outlinewidth": 0,
             "ticks": ""
            },
            "colorscale": [
             [
              0,
              "#0d0887"
             ],
             [
              0.1111111111111111,
              "#46039f"
             ],
             [
              0.2222222222222222,
              "#7201a8"
             ],
             [
              0.3333333333333333,
              "#9c179e"
             ],
             [
              0.4444444444444444,
              "#bd3786"
             ],
             [
              0.5555555555555556,
              "#d8576b"
             ],
             [
              0.6666666666666666,
              "#ed7953"
             ],
             [
              0.7777777777777778,
              "#fb9f3a"
             ],
             [
              0.8888888888888888,
              "#fdca26"
             ],
             [
              1,
              "#f0f921"
             ]
            ],
            "type": "heatmap"
           }
          ],
          "histogram": [
           {
            "marker": {
             "pattern": {
              "fillmode": "overlay",
              "size": 10,
              "solidity": 0.2
             }
            },
            "type": "histogram"
           }
          ],
          "histogram2d": [
           {
            "colorbar": {
             "outlinewidth": 0,
             "ticks": ""
            },
            "colorscale": [
             [
              0,
              "#0d0887"
             ],
             [
              0.1111111111111111,
              "#46039f"
             ],
             [
              0.2222222222222222,
              "#7201a8"
             ],
             [
              0.3333333333333333,
              "#9c179e"
             ],
             [
              0.4444444444444444,
              "#bd3786"
             ],
             [
              0.5555555555555556,
              "#d8576b"
             ],
             [
              0.6666666666666666,
              "#ed7953"
             ],
             [
              0.7777777777777778,
              "#fb9f3a"
             ],
             [
              0.8888888888888888,
              "#fdca26"
             ],
             [
              1,
              "#f0f921"
             ]
            ],
            "type": "histogram2d"
           }
          ],
          "histogram2dcontour": [
           {
            "colorbar": {
             "outlinewidth": 0,
             "ticks": ""
            },
            "colorscale": [
             [
              0,
              "#0d0887"
             ],
             [
              0.1111111111111111,
              "#46039f"
             ],
             [
              0.2222222222222222,
              "#7201a8"
             ],
             [
              0.3333333333333333,
              "#9c179e"
             ],
             [
              0.4444444444444444,
              "#bd3786"
             ],
             [
              0.5555555555555556,
              "#d8576b"
             ],
             [
              0.6666666666666666,
              "#ed7953"
             ],
             [
              0.7777777777777778,
              "#fb9f3a"
             ],
             [
              0.8888888888888888,
              "#fdca26"
             ],
             [
              1,
              "#f0f921"
             ]
            ],
            "type": "histogram2dcontour"
           }
          ],
          "mesh3d": [
           {
            "colorbar": {
             "outlinewidth": 0,
             "ticks": ""
            },
            "type": "mesh3d"
           }
          ],
          "parcoords": [
           {
            "line": {
             "colorbar": {
              "outlinewidth": 0,
              "ticks": ""
             }
            },
            "type": "parcoords"
           }
          ],
          "pie": [
           {
            "automargin": true,
            "type": "pie"
           }
          ],
          "scatter": [
           {
            "fillpattern": {
             "fillmode": "overlay",
             "size": 10,
             "solidity": 0.2
            },
            "type": "scatter"
           }
          ],
          "scatter3d": [
           {
            "line": {
             "colorbar": {
              "outlinewidth": 0,
              "ticks": ""
             }
            },
            "marker": {
             "colorbar": {
              "outlinewidth": 0,
              "ticks": ""
             }
            },
            "type": "scatter3d"
           }
          ],
          "scattercarpet": [
           {
            "marker": {
             "colorbar": {
              "outlinewidth": 0,
              "ticks": ""
             }
            },
            "type": "scattercarpet"
           }
          ],
          "scattergeo": [
           {
            "marker": {
             "colorbar": {
              "outlinewidth": 0,
              "ticks": ""
             }
            },
            "type": "scattergeo"
           }
          ],
          "scattergl": [
           {
            "marker": {
             "colorbar": {
              "outlinewidth": 0,
              "ticks": ""
             }
            },
            "type": "scattergl"
           }
          ],
          "scattermap": [
           {
            "marker": {
             "colorbar": {
              "outlinewidth": 0,
              "ticks": ""
             }
            },
            "type": "scattermap"
           }
          ],
          "scattermapbox": [
           {
            "marker": {
             "colorbar": {
              "outlinewidth": 0,
              "ticks": ""
             }
            },
            "type": "scattermapbox"
           }
          ],
          "scatterpolar": [
           {
            "marker": {
             "colorbar": {
              "outlinewidth": 0,
              "ticks": ""
             }
            },
            "type": "scatterpolar"
           }
          ],
          "scatterpolargl": [
           {
            "marker": {
             "colorbar": {
              "outlinewidth": 0,
              "ticks": ""
             }
            },
            "type": "scatterpolargl"
           }
          ],
          "scatterternary": [
           {
            "marker": {
             "colorbar": {
              "outlinewidth": 0,
              "ticks": ""
             }
            },
            "type": "scatterternary"
           }
          ],
          "surface": [
           {
            "colorbar": {
             "outlinewidth": 0,
             "ticks": ""
            },
            "colorscale": [
             [
              0,
              "#0d0887"
             ],
             [
              0.1111111111111111,
              "#46039f"
             ],
             [
              0.2222222222222222,
              "#7201a8"
             ],
             [
              0.3333333333333333,
              "#9c179e"
             ],
             [
              0.4444444444444444,
              "#bd3786"
             ],
             [
              0.5555555555555556,
              "#d8576b"
             ],
             [
              0.6666666666666666,
              "#ed7953"
             ],
             [
              0.7777777777777778,
              "#fb9f3a"
             ],
             [
              0.8888888888888888,
              "#fdca26"
             ],
             [
              1,
              "#f0f921"
             ]
            ],
            "type": "surface"
           }
          ],
          "table": [
           {
            "cells": {
             "fill": {
              "color": "#EBF0F8"
             },
             "line": {
              "color": "white"
             }
            },
            "header": {
             "fill": {
              "color": "#C8D4E3"
             },
             "line": {
              "color": "white"
             }
            },
            "type": "table"
           }
          ]
         },
         "layout": {
          "annotationdefaults": {
           "arrowcolor": "#2a3f5f",
           "arrowhead": 0,
           "arrowwidth": 1
          },
          "autotypenumbers": "strict",
          "coloraxis": {
           "colorbar": {
            "outlinewidth": 0,
            "ticks": ""
           }
          },
          "colorscale": {
           "diverging": [
            [
             0,
             "#8e0152"
            ],
            [
             0.1,
             "#c51b7d"
            ],
            [
             0.2,
             "#de77ae"
            ],
            [
             0.3,
             "#f1b6da"
            ],
            [
             0.4,
             "#fde0ef"
            ],
            [
             0.5,
             "#f7f7f7"
            ],
            [
             0.6,
             "#e6f5d0"
            ],
            [
             0.7,
             "#b8e186"
            ],
            [
             0.8,
             "#7fbc41"
            ],
            [
             0.9,
             "#4d9221"
            ],
            [
             1,
             "#276419"
            ]
           ],
           "sequential": [
            [
             0,
             "#0d0887"
            ],
            [
             0.1111111111111111,
             "#46039f"
            ],
            [
             0.2222222222222222,
             "#7201a8"
            ],
            [
             0.3333333333333333,
             "#9c179e"
            ],
            [
             0.4444444444444444,
             "#bd3786"
            ],
            [
             0.5555555555555556,
             "#d8576b"
            ],
            [
             0.6666666666666666,
             "#ed7953"
            ],
            [
             0.7777777777777778,
             "#fb9f3a"
            ],
            [
             0.8888888888888888,
             "#fdca26"
            ],
            [
             1,
             "#f0f921"
            ]
           ],
           "sequentialminus": [
            [
             0,
             "#0d0887"
            ],
            [
             0.1111111111111111,
             "#46039f"
            ],
            [
             0.2222222222222222,
             "#7201a8"
            ],
            [
             0.3333333333333333,
             "#9c179e"
            ],
            [
             0.4444444444444444,
             "#bd3786"
            ],
            [
             0.5555555555555556,
             "#d8576b"
            ],
            [
             0.6666666666666666,
             "#ed7953"
            ],
            [
             0.7777777777777778,
             "#fb9f3a"
            ],
            [
             0.8888888888888888,
             "#fdca26"
            ],
            [
             1,
             "#f0f921"
            ]
           ]
          },
          "colorway": [
           "#636efa",
           "#EF553B",
           "#00cc96",
           "#ab63fa",
           "#FFA15A",
           "#19d3f3",
           "#FF6692",
           "#B6E880",
           "#FF97FF",
           "#FECB52"
          ],
          "font": {
           "color": "#2a3f5f"
          },
          "geo": {
           "bgcolor": "white",
           "lakecolor": "white",
           "landcolor": "#E5ECF6",
           "showlakes": true,
           "showland": true,
           "subunitcolor": "white"
          },
          "hoverlabel": {
           "align": "left"
          },
          "hovermode": "closest",
          "mapbox": {
           "style": "light"
          },
          "paper_bgcolor": "white",
          "plot_bgcolor": "#E5ECF6",
          "polar": {
           "angularaxis": {
            "gridcolor": "white",
            "linecolor": "white",
            "ticks": ""
           },
           "bgcolor": "#E5ECF6",
           "radialaxis": {
            "gridcolor": "white",
            "linecolor": "white",
            "ticks": ""
           }
          },
          "scene": {
           "xaxis": {
            "backgroundcolor": "#E5ECF6",
            "gridcolor": "white",
            "gridwidth": 2,
            "linecolor": "white",
            "showbackground": true,
            "ticks": "",
            "zerolinecolor": "white"
           },
           "yaxis": {
            "backgroundcolor": "#E5ECF6",
            "gridcolor": "white",
            "gridwidth": 2,
            "linecolor": "white",
            "showbackground": true,
            "ticks": "",
            "zerolinecolor": "white"
           },
           "zaxis": {
            "backgroundcolor": "#E5ECF6",
            "gridcolor": "white",
            "gridwidth": 2,
            "linecolor": "white",
            "showbackground": true,
            "ticks": "",
            "zerolinecolor": "white"
           }
          },
          "shapedefaults": {
           "line": {
            "color": "#2a3f5f"
           }
          },
          "ternary": {
           "aaxis": {
            "gridcolor": "white",
            "linecolor": "white",
            "ticks": ""
           },
           "baxis": {
            "gridcolor": "white",
            "linecolor": "white",
            "ticks": ""
           },
           "bgcolor": "#E5ECF6",
           "caxis": {
            "gridcolor": "white",
            "linecolor": "white",
            "ticks": ""
           }
          },
          "title": {
           "x": 0.05
          },
          "xaxis": {
           "automargin": true,
           "gridcolor": "white",
           "linecolor": "white",
           "ticks": "",
           "title": {
            "standoff": 15
           },
           "zerolinecolor": "white",
           "zerolinewidth": 2
          },
          "yaxis": {
           "automargin": true,
           "gridcolor": "white",
           "linecolor": "white",
           "ticks": "",
           "title": {
            "standoff": 15
           },
           "zerolinecolor": "white",
           "zerolinewidth": 2
          }
         }
        },
        "title": {
         "text": "Secondary Enrollment Rate Trends by Region (2010-2019)"
        },
        "xaxis": {
         "anchor": "y",
         "domain": [
          0,
          1
         ],
         "gridcolor": "lightgray",
         "gridwidth": 1,
         "showgrid": true,
         "title": {
          "text": "Year"
         }
        },
        "yaxis": {
         "anchor": "x",
         "domain": [
          0,
          1
         ],
         "gridcolor": "lightgray",
         "gridwidth": 1,
         "showgrid": true,
         "title": {
          "text": "Secondary Enrollment Rate (%)"
         }
        }
       }
      }
     },
     "metadata": {},
     "output_type": "display_data"
    },
    {
     "name": "stdout",
     "output_type": "stream",
     "text": [
      "\n",
      "Secondary Enrollment Rate Summary:\n",
      "   • Data coverage: 2010-2019\n",
      "   • Total observations: 95\n",
      "   • Peak year: 2015 (15 countries)\n",
      "   • Recent year: 2019 (1 countries)\n"
     ]
    },
    {
     "data": {
      "application/vnd.plotly.v1+json": {
       "config": {
        "plotlyServerURL": "https://plot.ly"
       },
       "data": [
        {
         "customdata": {
          "bdata": "BQUEAgIDAwMCAQIEAgI=",
          "dtype": "i1",
          "shape": "14, 1"
         },
         "hovertemplate": "region=Central Africa<br>Year=%{x}<br>Primary Completion Rate (%)=%{y}<br>country_count=%{customdata[0]}<extra></extra>",
         "legendgroup": "Central Africa",
         "line": {
          "color": "#636efa",
          "dash": "solid"
         },
         "marker": {
          "symbol": "circle"
         },
         "mode": "lines+markers",
         "name": "Central Africa",
         "orientation": "v",
         "showlegend": true,
         "type": "scatter",
         "x": {
          "bdata": "2gfbB9wH3QfeB98H4AfhB+IH4wfkB+UH5gfnBw==",
          "dtype": "i2"
         },
         "xaxis": "x",
         "y": {
          "bdata": "mJmZ2Tk8SEBpZmbGd2lJQAEAAKjZCUtABgAAQLVbSkAAAADQSlVRQFNVVRXXKE5AVVVVFUZmSUBYVVW1i85JQAAAANDPNUpAAAAAoE9cUEACAABQ+SVSQAEAANgc0U9AAAAAeOFOUEAAAADQSYFSQA==",
          "dtype": "f8"
         },
         "yaxis": "y"
        },
        {
         "customdata": {
          "bdata": "BQQFBAUGBQQDAwMCAQM=",
          "dtype": "i1",
          "shape": "14, 1"
         },
         "hovertemplate": "region=East Africa<br>Year=%{x}<br>Primary Completion Rate (%)=%{y}<br>country_count=%{customdata[0]}<extra></extra>",
         "legendgroup": "East Africa",
         "line": {
          "color": "#EF553B",
          "dash": "solid"
         },
         "marker": {
          "symbol": "circle"
         },
         "mode": "lines+markers",
         "name": "East Africa",
         "orientation": "v",
         "showlegend": true,
         "type": "scatter",
         "x": {
          "bdata": "2gfbB9wH3QfeB98H4AfhB+IH4wfkB+UH5gfnBw==",
          "dtype": "i2"
         },
         "xaxis": "x",
         "y": {
          "bdata": "MjMzg4y1UEAGAACApWZPQAAAABBcWlBAAAAAJLliUECamZmJBDpRQPv//699l1BAODMz03OAUUABAACE1i9QQAEAAMDgVlFAVVVVhdm9UUBXVVW1rRBOQP7//9/7/lRAAwAAoCYST0BVVVU1R8lQQA==",
          "dtype": "f8"
         },
         "yaxis": "y"
        },
        {
         "customdata": {
          "bdata": "BwUJCQcGBgQGBwUFBwU=",
          "dtype": "i1",
          "shape": "14, 1"
         },
         "hovertemplate": "region=Southern Africa<br>Year=%{x}<br>Primary Completion Rate (%)=%{y}<br>country_count=%{customdata[0]}<extra></extra>",
         "legendgroup": "Southern Africa",
         "line": {
          "color": "#00cc96",
          "dash": "solid"
         },
         "marker": {
          "symbol": "circle"
         },
         "mode": "lines+markers",
         "name": "Southern Africa",
         "orientation": "v",
         "showlegend": true,
         "type": "scatter",
         "x": {
          "bdata": "2gfbB9wH3QfeB98H4AfhB+IH4wfkB+UH5gfnBw==",
          "dtype": "i2"
         },
         "xaxis": "x",
         "y": {
          "bdata": "I0mSVMG5U0ACAADgzS1SQDmO43gFQFRAAAAAQAIeVEDatm37J/1SQKqqqspc9lNA+///x0aOU0ADAABw6jFTQAEAAKAqIlVAJkmSBNAZVEBmZmZWRzZTQM7MzMzy+lNA////vzyjU0BmZmZ27GJRQA==",
          "dtype": "f8"
         },
         "yaxis": "y"
        },
        {
         "customdata": {
          "bdata": "BQUFBQUFAwQCAwMDBAQ=",
          "dtype": "i1",
          "shape": "14, 1"
         },
         "hovertemplate": "region=West Africa<br>Year=%{x}<br>Primary Completion Rate (%)=%{y}<br>country_count=%{customdata[0]}<extra></extra>",
         "legendgroup": "West Africa",
         "line": {
          "color": "#ab63fa",
          "dash": "solid"
         },
         "marker": {
          "symbol": "circle"
         },
         "mode": "lines+markers",
         "name": "West Africa",
         "orientation": "v",
         "showlegend": true,
         "type": "scatter",
         "x": {
          "bdata": "2gfbB9wH3QfeB98H4AfhB+IH4wfkB+UH5gfnBw==",
          "dtype": "i2"
         },
         "xaxis": "x",
         "y": {
          "bdata": "zczMrJQ7S0DNzMwssi1OQGZmZka2p05AAAAAQMVtT0BmZma28AhQQMrMzHxyo1BAUVVV1RWbTkAAAAB4g2NQQP///ydi3FJAqKqqCrx2T0CtqqpqPY9NQK2qqoqYZU9AAAAAbLVJUEAAAACgrlNKQA==",
          "dtype": "f8"
         },
         "yaxis": "y"
        }
       ],
       "layout": {
        "annotations": [
         {
          "bgcolor": "rgba(255,255,255,0.8)",
          "font": {
           "color": "gray",
           "size": 10
          },
          "showarrow": false,
          "text": "Total observations: 237 | Years: 14 | Regions: 4",
          "x": 0.02,
          "xref": "paper",
          "y": 0.98,
          "yref": "paper"
         }
        ],
        "height": 500,
        "hovermode": "x unified",
        "legend": {
         "orientation": "h",
         "title": {
          "text": "region"
         },
         "tracegroupgap": 0,
         "x": 1,
         "xanchor": "right",
         "y": 1.02,
         "yanchor": "bottom"
        },
        "template": {
         "data": {
          "bar": [
           {
            "error_x": {
             "color": "#2a3f5f"
            },
            "error_y": {
             "color": "#2a3f5f"
            },
            "marker": {
             "line": {
              "color": "#E5ECF6",
              "width": 0.5
             },
             "pattern": {
              "fillmode": "overlay",
              "size": 10,
              "solidity": 0.2
             }
            },
            "type": "bar"
           }
          ],
          "barpolar": [
           {
            "marker": {
             "line": {
              "color": "#E5ECF6",
              "width": 0.5
             },
             "pattern": {
              "fillmode": "overlay",
              "size": 10,
              "solidity": 0.2
             }
            },
            "type": "barpolar"
           }
          ],
          "carpet": [
           {
            "aaxis": {
             "endlinecolor": "#2a3f5f",
             "gridcolor": "white",
             "linecolor": "white",
             "minorgridcolor": "white",
             "startlinecolor": "#2a3f5f"
            },
            "baxis": {
             "endlinecolor": "#2a3f5f",
             "gridcolor": "white",
             "linecolor": "white",
             "minorgridcolor": "white",
             "startlinecolor": "#2a3f5f"
            },
            "type": "carpet"
           }
          ],
          "choropleth": [
           {
            "colorbar": {
             "outlinewidth": 0,
             "ticks": ""
            },
            "type": "choropleth"
           }
          ],
          "contour": [
           {
            "colorbar": {
             "outlinewidth": 0,
             "ticks": ""
            },
            "colorscale": [
             [
              0,
              "#0d0887"
             ],
             [
              0.1111111111111111,
              "#46039f"
             ],
             [
              0.2222222222222222,
              "#7201a8"
             ],
             [
              0.3333333333333333,
              "#9c179e"
             ],
             [
              0.4444444444444444,
              "#bd3786"
             ],
             [
              0.5555555555555556,
              "#d8576b"
             ],
             [
              0.6666666666666666,
              "#ed7953"
             ],
             [
              0.7777777777777778,
              "#fb9f3a"
             ],
             [
              0.8888888888888888,
              "#fdca26"
             ],
             [
              1,
              "#f0f921"
             ]
            ],
            "type": "contour"
           }
          ],
          "contourcarpet": [
           {
            "colorbar": {
             "outlinewidth": 0,
             "ticks": ""
            },
            "type": "contourcarpet"
           }
          ],
          "heatmap": [
           {
            "colorbar": {
             "outlinewidth": 0,
             "ticks": ""
            },
            "colorscale": [
             [
              0,
              "#0d0887"
             ],
             [
              0.1111111111111111,
              "#46039f"
             ],
             [
              0.2222222222222222,
              "#7201a8"
             ],
             [
              0.3333333333333333,
              "#9c179e"
             ],
             [
              0.4444444444444444,
              "#bd3786"
             ],
             [
              0.5555555555555556,
              "#d8576b"
             ],
             [
              0.6666666666666666,
              "#ed7953"
             ],
             [
              0.7777777777777778,
              "#fb9f3a"
             ],
             [
              0.8888888888888888,
              "#fdca26"
             ],
             [
              1,
              "#f0f921"
             ]
            ],
            "type": "heatmap"
           }
          ],
          "histogram": [
           {
            "marker": {
             "pattern": {
              "fillmode": "overlay",
              "size": 10,
              "solidity": 0.2
             }
            },
            "type": "histogram"
           }
          ],
          "histogram2d": [
           {
            "colorbar": {
             "outlinewidth": 0,
             "ticks": ""
            },
            "colorscale": [
             [
              0,
              "#0d0887"
             ],
             [
              0.1111111111111111,
              "#46039f"
             ],
             [
              0.2222222222222222,
              "#7201a8"
             ],
             [
              0.3333333333333333,
              "#9c179e"
             ],
             [
              0.4444444444444444,
              "#bd3786"
             ],
             [
              0.5555555555555556,
              "#d8576b"
             ],
             [
              0.6666666666666666,
              "#ed7953"
             ],
             [
              0.7777777777777778,
              "#fb9f3a"
             ],
             [
              0.8888888888888888,
              "#fdca26"
             ],
             [
              1,
              "#f0f921"
             ]
            ],
            "type": "histogram2d"
           }
          ],
          "histogram2dcontour": [
           {
            "colorbar": {
             "outlinewidth": 0,
             "ticks": ""
            },
            "colorscale": [
             [
              0,
              "#0d0887"
             ],
             [
              0.1111111111111111,
              "#46039f"
             ],
             [
              0.2222222222222222,
              "#7201a8"
             ],
             [
              0.3333333333333333,
              "#9c179e"
             ],
             [
              0.4444444444444444,
              "#bd3786"
             ],
             [
              0.5555555555555556,
              "#d8576b"
             ],
             [
              0.6666666666666666,
              "#ed7953"
             ],
             [
              0.7777777777777778,
              "#fb9f3a"
             ],
             [
              0.8888888888888888,
              "#fdca26"
             ],
             [
              1,
              "#f0f921"
             ]
            ],
            "type": "histogram2dcontour"
           }
          ],
          "mesh3d": [
           {
            "colorbar": {
             "outlinewidth": 0,
             "ticks": ""
            },
            "type": "mesh3d"
           }
          ],
          "parcoords": [
           {
            "line": {
             "colorbar": {
              "outlinewidth": 0,
              "ticks": ""
             }
            },
            "type": "parcoords"
           }
          ],
          "pie": [
           {
            "automargin": true,
            "type": "pie"
           }
          ],
          "scatter": [
           {
            "fillpattern": {
             "fillmode": "overlay",
             "size": 10,
             "solidity": 0.2
            },
            "type": "scatter"
           }
          ],
          "scatter3d": [
           {
            "line": {
             "colorbar": {
              "outlinewidth": 0,
              "ticks": ""
             }
            },
            "marker": {
             "colorbar": {
              "outlinewidth": 0,
              "ticks": ""
             }
            },
            "type": "scatter3d"
           }
          ],
          "scattercarpet": [
           {
            "marker": {
             "colorbar": {
              "outlinewidth": 0,
              "ticks": ""
             }
            },
            "type": "scattercarpet"
           }
          ],
          "scattergeo": [
           {
            "marker": {
             "colorbar": {
              "outlinewidth": 0,
              "ticks": ""
             }
            },
            "type": "scattergeo"
           }
          ],
          "scattergl": [
           {
            "marker": {
             "colorbar": {
              "outlinewidth": 0,
              "ticks": ""
             }
            },
            "type": "scattergl"
           }
          ],
          "scattermap": [
           {
            "marker": {
             "colorbar": {
              "outlinewidth": 0,
              "ticks": ""
             }
            },
            "type": "scattermap"
           }
          ],
          "scattermapbox": [
           {
            "marker": {
             "colorbar": {
              "outlinewidth": 0,
              "ticks": ""
             }
            },
            "type": "scattermapbox"
           }
          ],
          "scatterpolar": [
           {
            "marker": {
             "colorbar": {
              "outlinewidth": 0,
              "ticks": ""
             }
            },
            "type": "scatterpolar"
           }
          ],
          "scatterpolargl": [
           {
            "marker": {
             "colorbar": {
              "outlinewidth": 0,
              "ticks": ""
             }
            },
            "type": "scatterpolargl"
           }
          ],
          "scatterternary": [
           {
            "marker": {
             "colorbar": {
              "outlinewidth": 0,
              "ticks": ""
             }
            },
            "type": "scatterternary"
           }
          ],
          "surface": [
           {
            "colorbar": {
             "outlinewidth": 0,
             "ticks": ""
            },
            "colorscale": [
             [
              0,
              "#0d0887"
             ],
             [
              0.1111111111111111,
              "#46039f"
             ],
             [
              0.2222222222222222,
              "#7201a8"
             ],
             [
              0.3333333333333333,
              "#9c179e"
             ],
             [
              0.4444444444444444,
              "#bd3786"
             ],
             [
              0.5555555555555556,
              "#d8576b"
             ],
             [
              0.6666666666666666,
              "#ed7953"
             ],
             [
              0.7777777777777778,
              "#fb9f3a"
             ],
             [
              0.8888888888888888,
              "#fdca26"
             ],
             [
              1,
              "#f0f921"
             ]
            ],
            "type": "surface"
           }
          ],
          "table": [
           {
            "cells": {
             "fill": {
              "color": "#EBF0F8"
             },
             "line": {
              "color": "white"
             }
            },
            "header": {
             "fill": {
              "color": "#C8D4E3"
             },
             "line": {
              "color": "white"
             }
            },
            "type": "table"
           }
          ]
         },
         "layout": {
          "annotationdefaults": {
           "arrowcolor": "#2a3f5f",
           "arrowhead": 0,
           "arrowwidth": 1
          },
          "autotypenumbers": "strict",
          "coloraxis": {
           "colorbar": {
            "outlinewidth": 0,
            "ticks": ""
           }
          },
          "colorscale": {
           "diverging": [
            [
             0,
             "#8e0152"
            ],
            [
             0.1,
             "#c51b7d"
            ],
            [
             0.2,
             "#de77ae"
            ],
            [
             0.3,
             "#f1b6da"
            ],
            [
             0.4,
             "#fde0ef"
            ],
            [
             0.5,
             "#f7f7f7"
            ],
            [
             0.6,
             "#e6f5d0"
            ],
            [
             0.7,
             "#b8e186"
            ],
            [
             0.8,
             "#7fbc41"
            ],
            [
             0.9,
             "#4d9221"
            ],
            [
             1,
             "#276419"
            ]
           ],
           "sequential": [
            [
             0,
             "#0d0887"
            ],
            [
             0.1111111111111111,
             "#46039f"
            ],
            [
             0.2222222222222222,
             "#7201a8"
            ],
            [
             0.3333333333333333,
             "#9c179e"
            ],
            [
             0.4444444444444444,
             "#bd3786"
            ],
            [
             0.5555555555555556,
             "#d8576b"
            ],
            [
             0.6666666666666666,
             "#ed7953"
            ],
            [
             0.7777777777777778,
             "#fb9f3a"
            ],
            [
             0.8888888888888888,
             "#fdca26"
            ],
            [
             1,
             "#f0f921"
            ]
           ],
           "sequentialminus": [
            [
             0,
             "#0d0887"
            ],
            [
             0.1111111111111111,
             "#46039f"
            ],
            [
             0.2222222222222222,
             "#7201a8"
            ],
            [
             0.3333333333333333,
             "#9c179e"
            ],
            [
             0.4444444444444444,
             "#bd3786"
            ],
            [
             0.5555555555555556,
             "#d8576b"
            ],
            [
             0.6666666666666666,
             "#ed7953"
            ],
            [
             0.7777777777777778,
             "#fb9f3a"
            ],
            [
             0.8888888888888888,
             "#fdca26"
            ],
            [
             1,
             "#f0f921"
            ]
           ]
          },
          "colorway": [
           "#636efa",
           "#EF553B",
           "#00cc96",
           "#ab63fa",
           "#FFA15A",
           "#19d3f3",
           "#FF6692",
           "#B6E880",
           "#FF97FF",
           "#FECB52"
          ],
          "font": {
           "color": "#2a3f5f"
          },
          "geo": {
           "bgcolor": "white",
           "lakecolor": "white",
           "landcolor": "#E5ECF6",
           "showlakes": true,
           "showland": true,
           "subunitcolor": "white"
          },
          "hoverlabel": {
           "align": "left"
          },
          "hovermode": "closest",
          "mapbox": {
           "style": "light"
          },
          "paper_bgcolor": "white",
          "plot_bgcolor": "#E5ECF6",
          "polar": {
           "angularaxis": {
            "gridcolor": "white",
            "linecolor": "white",
            "ticks": ""
           },
           "bgcolor": "#E5ECF6",
           "radialaxis": {
            "gridcolor": "white",
            "linecolor": "white",
            "ticks": ""
           }
          },
          "scene": {
           "xaxis": {
            "backgroundcolor": "#E5ECF6",
            "gridcolor": "white",
            "gridwidth": 2,
            "linecolor": "white",
            "showbackground": true,
            "ticks": "",
            "zerolinecolor": "white"
           },
           "yaxis": {
            "backgroundcolor": "#E5ECF6",
            "gridcolor": "white",
            "gridwidth": 2,
            "linecolor": "white",
            "showbackground": true,
            "ticks": "",
            "zerolinecolor": "white"
           },
           "zaxis": {
            "backgroundcolor": "#E5ECF6",
            "gridcolor": "white",
            "gridwidth": 2,
            "linecolor": "white",
            "showbackground": true,
            "ticks": "",
            "zerolinecolor": "white"
           }
          },
          "shapedefaults": {
           "line": {
            "color": "#2a3f5f"
           }
          },
          "ternary": {
           "aaxis": {
            "gridcolor": "white",
            "linecolor": "white",
            "ticks": ""
           },
           "baxis": {
            "gridcolor": "white",
            "linecolor": "white",
            "ticks": ""
           },
           "bgcolor": "#E5ECF6",
           "caxis": {
            "gridcolor": "white",
            "linecolor": "white",
            "ticks": ""
           }
          },
          "title": {
           "x": 0.05
          },
          "xaxis": {
           "automargin": true,
           "gridcolor": "white",
           "linecolor": "white",
           "ticks": "",
           "title": {
            "standoff": 15
           },
           "zerolinecolor": "white",
           "zerolinewidth": 2
          },
          "yaxis": {
           "automargin": true,
           "gridcolor": "white",
           "linecolor": "white",
           "ticks": "",
           "title": {
            "standoff": 15
           },
           "zerolinecolor": "white",
           "zerolinewidth": 2
          }
         }
        },
        "title": {
         "text": "Primary Completion Rate Trends by Region (2010-2023)"
        },
        "xaxis": {
         "anchor": "y",
         "domain": [
          0,
          1
         ],
         "gridcolor": "lightgray",
         "gridwidth": 1,
         "showgrid": true,
         "title": {
          "text": "Year"
         }
        },
        "yaxis": {
         "anchor": "x",
         "domain": [
          0,
          1
         ],
         "gridcolor": "lightgray",
         "gridwidth": 1,
         "showgrid": true,
         "title": {
          "text": "Primary Completion Rate (%)"
         }
        }
       }
      }
     },
     "metadata": {},
     "output_type": "display_data"
    },
    {
     "name": "stdout",
     "output_type": "stream",
     "text": [
      "\n",
      "Primary Completion Rate Summary:\n",
      "   • Data coverage: 2010-2023\n",
      "   • Total observations: 237\n",
      "   • Peak year: 2012 (23 countries)\n",
      "   • Recent year: 2023 (14 countries)\n"
     ]
    },
    {
     "data": {
      "application/vnd.plotly.v1+json": {
       "config": {
        "plotlyServerURL": "https://plot.ly"
       },
       "data": [
        {
         "customdata": {
          "bdata": "AgMEAwICAwMCAQIDAQE=",
          "dtype": "i1",
          "shape": "14, 1"
         },
         "hovertemplate": "region=Central Africa<br>Year=%{x}<br>Secondary Completion Rate (%)=%{y}<br>country_count=%{customdata[0]}<extra></extra>",
         "legendgroup": "Central Africa",
         "line": {
          "color": "#636efa",
          "dash": "solid"
         },
         "marker": {
          "symbol": "circle"
         },
         "mode": "lines+markers",
         "name": "Central Africa",
         "orientation": "v",
         "showlegend": true,
         "type": "scatter",
         "x": {
          "bdata": "2gfbB9wH3QfeB98H4AfhB+IH4wfkB+UH5gfnBw==",
          "dtype": "i2"
         },
         "xaxis": "x",
         "y": {
          "bdata": "+v//T3vCOED1//+/vtM6QP7//8duPDtAqaqqCvXKQEAAAAAw2jNFQP7//0/CzD5Apaqq6kb0N0BTVVW1mxY3QAMAADC3WjxA+///f5/IQkD+///vcWpHQKyqqtpbiUBABgAAQAWwQUABAAAgPVZBQA==",
          "dtype": "f8"
         },
         "yaxis": "y"
        },
        {
         "customdata": {
          "bdata": "AwMFAwUFBQQDAwICAQM=",
          "dtype": "i1",
          "shape": "14, 1"
         },
         "hovertemplate": "region=East Africa<br>Year=%{x}<br>Secondary Completion Rate (%)=%{y}<br>country_count=%{customdata[0]}<extra></extra>",
         "legendgroup": "East Africa",
         "line": {
          "color": "#EF553B",
          "dash": "solid"
         },
         "marker": {
          "symbol": "circle"
         },
         "mode": "lines+markers",
         "name": "East Africa",
         "orientation": "v",
         "showlegend": true,
         "type": "scatter",
         "x": {
          "bdata": "2gfbB9wH3QfeB98H4AfhB+IH4wfkB+UH5gfnBw==",
          "dtype": "i2"
         },
         "xaxis": "x",
         "y": {
          "bdata": "XVVVdcS8N0CkqqpqrQI/QDUzM/P5TD5ATVVVFcYoPkAyMzMjY15EQM7MzLw81ERAAQAAEOjlRUACAABQKV5AQK6qqpqVNEBA////jxb4QED4//8/aas+QAQAANBqeUNA+f//X8JHQ0D7//8/Q/Y9QA==",
          "dtype": "f8"
         },
         "yaxis": "y"
        },
        {
         "customdata": {
          "bdata": "BwUJCQYEBQYEBgYEBgM=",
          "dtype": "i1",
          "shape": "14, 1"
         },
         "hovertemplate": "region=Southern Africa<br>Year=%{x}<br>Secondary Completion Rate (%)=%{y}<br>country_count=%{customdata[0]}<extra></extra>",
         "legendgroup": "Southern Africa",
         "line": {
          "color": "#00cc96",
          "dash": "solid"
         },
         "marker": {
          "symbol": "circle"
         },
         "mode": "lines+markers",
         "name": "Southern Africa",
         "orientation": "v",
         "showlegend": true,
         "type": "scatter",
         "x": {
          "bdata": "2gfbB9wH3QfeB98H4AfhB+IH4wfkB+UH5gfnBw==",
          "dtype": "i2"
         },
         "xaxis": "x",
         "y": {
          "bdata": "AQAAsHAHREDOzMyMUGpCQI7jOA7N80hAVFVVNeWSSUBVVVX9dqxKQAIAAGgnOkZAmpmZ+dEnTUBYVVUVExBKQAAAADDBfExA/f//T3aMS0Csqqqyo0NIQPz///OfFkxAq6qqKhzsSkD///+vzpZBQA==",
          "dtype": "f8"
         },
         "yaxis": "y"
        },
        {
         "customdata": {
          "bdata": "BQUFBQUFAwQDBAEDAwQ=",
          "dtype": "i1",
          "shape": "14, 1"
         },
         "hovertemplate": "region=West Africa<br>Year=%{x}<br>Secondary Completion Rate (%)=%{y}<br>country_count=%{customdata[0]}<extra></extra>",
         "legendgroup": "West Africa",
         "line": {
          "color": "#ab63fa",
          "dash": "solid"
         },
         "marker": {
          "symbol": "circle"
         },
         "mode": "lines+markers",
         "name": "West Africa",
         "orientation": "v",
         "showlegend": true,
         "type": "scatter",
         "x": {
          "bdata": "2gfbB9wH3QfeB98H4AfhB+IH4wfkB+UH5gfnBw==",
          "dtype": "i2"
         },
         "xaxis": "x",
         "y": {
          "bdata": "zszMrF5WO0DOzMyMuK1AQGZmZvYLc0BAlZmZmXzDQEBlZmZm/aNBQGVmZj4lWkJAq6qqKvJdOUACAAC8CSNDQAAAALDzrUZAAAAAYBo+RUACAADgOTFEQKyqqsrPCkBAr6qqSgZXPEADAACIcK47QA==",
          "dtype": "f8"
         },
         "yaxis": "y"
        }
       ],
       "layout": {
        "annotations": [
         {
          "bgcolor": "rgba(255,255,255,0.8)",
          "font": {
           "color": "gray",
           "size": 10
          },
          "showarrow": false,
          "text": "Total observations: 214 | Years: 14 | Regions: 4",
          "x": 0.02,
          "xref": "paper",
          "y": 0.98,
          "yref": "paper"
         }
        ],
        "height": 500,
        "hovermode": "x unified",
        "legend": {
         "orientation": "h",
         "title": {
          "text": "region"
         },
         "tracegroupgap": 0,
         "x": 1,
         "xanchor": "right",
         "y": 1.02,
         "yanchor": "bottom"
        },
        "template": {
         "data": {
          "bar": [
           {
            "error_x": {
             "color": "#2a3f5f"
            },
            "error_y": {
             "color": "#2a3f5f"
            },
            "marker": {
             "line": {
              "color": "#E5ECF6",
              "width": 0.5
             },
             "pattern": {
              "fillmode": "overlay",
              "size": 10,
              "solidity": 0.2
             }
            },
            "type": "bar"
           }
          ],
          "barpolar": [
           {
            "marker": {
             "line": {
              "color": "#E5ECF6",
              "width": 0.5
             },
             "pattern": {
              "fillmode": "overlay",
              "size": 10,
              "solidity": 0.2
             }
            },
            "type": "barpolar"
           }
          ],
          "carpet": [
           {
            "aaxis": {
             "endlinecolor": "#2a3f5f",
             "gridcolor": "white",
             "linecolor": "white",
             "minorgridcolor": "white",
             "startlinecolor": "#2a3f5f"
            },
            "baxis": {
             "endlinecolor": "#2a3f5f",
             "gridcolor": "white",
             "linecolor": "white",
             "minorgridcolor": "white",
             "startlinecolor": "#2a3f5f"
            },
            "type": "carpet"
           }
          ],
          "choropleth": [
           {
            "colorbar": {
             "outlinewidth": 0,
             "ticks": ""
            },
            "type": "choropleth"
           }
          ],
          "contour": [
           {
            "colorbar": {
             "outlinewidth": 0,
             "ticks": ""
            },
            "colorscale": [
             [
              0,
              "#0d0887"
             ],
             [
              0.1111111111111111,
              "#46039f"
             ],
             [
              0.2222222222222222,
              "#7201a8"
             ],
             [
              0.3333333333333333,
              "#9c179e"
             ],
             [
              0.4444444444444444,
              "#bd3786"
             ],
             [
              0.5555555555555556,
              "#d8576b"
             ],
             [
              0.6666666666666666,
              "#ed7953"
             ],
             [
              0.7777777777777778,
              "#fb9f3a"
             ],
             [
              0.8888888888888888,
              "#fdca26"
             ],
             [
              1,
              "#f0f921"
             ]
            ],
            "type": "contour"
           }
          ],
          "contourcarpet": [
           {
            "colorbar": {
             "outlinewidth": 0,
             "ticks": ""
            },
            "type": "contourcarpet"
           }
          ],
          "heatmap": [
           {
            "colorbar": {
             "outlinewidth": 0,
             "ticks": ""
            },
            "colorscale": [
             [
              0,
              "#0d0887"
             ],
             [
              0.1111111111111111,
              "#46039f"
             ],
             [
              0.2222222222222222,
              "#7201a8"
             ],
             [
              0.3333333333333333,
              "#9c179e"
             ],
             [
              0.4444444444444444,
              "#bd3786"
             ],
             [
              0.5555555555555556,
              "#d8576b"
             ],
             [
              0.6666666666666666,
              "#ed7953"
             ],
             [
              0.7777777777777778,
              "#fb9f3a"
             ],
             [
              0.8888888888888888,
              "#fdca26"
             ],
             [
              1,
              "#f0f921"
             ]
            ],
            "type": "heatmap"
           }
          ],
          "histogram": [
           {
            "marker": {
             "pattern": {
              "fillmode": "overlay",
              "size": 10,
              "solidity": 0.2
             }
            },
            "type": "histogram"
           }
          ],
          "histogram2d": [
           {
            "colorbar": {
             "outlinewidth": 0,
             "ticks": ""
            },
            "colorscale": [
             [
              0,
              "#0d0887"
             ],
             [
              0.1111111111111111,
              "#46039f"
             ],
             [
              0.2222222222222222,
              "#7201a8"
             ],
             [
              0.3333333333333333,
              "#9c179e"
             ],
             [
              0.4444444444444444,
              "#bd3786"
             ],
             [
              0.5555555555555556,
              "#d8576b"
             ],
             [
              0.6666666666666666,
              "#ed7953"
             ],
             [
              0.7777777777777778,
              "#fb9f3a"
             ],
             [
              0.8888888888888888,
              "#fdca26"
             ],
             [
              1,
              "#f0f921"
             ]
            ],
            "type": "histogram2d"
           }
          ],
          "histogram2dcontour": [
           {
            "colorbar": {
             "outlinewidth": 0,
             "ticks": ""
            },
            "colorscale": [
             [
              0,
              "#0d0887"
             ],
             [
              0.1111111111111111,
              "#46039f"
             ],
             [
              0.2222222222222222,
              "#7201a8"
             ],
             [
              0.3333333333333333,
              "#9c179e"
             ],
             [
              0.4444444444444444,
              "#bd3786"
             ],
             [
              0.5555555555555556,
              "#d8576b"
             ],
             [
              0.6666666666666666,
              "#ed7953"
             ],
             [
              0.7777777777777778,
              "#fb9f3a"
             ],
             [
              0.8888888888888888,
              "#fdca26"
             ],
             [
              1,
              "#f0f921"
             ]
            ],
            "type": "histogram2dcontour"
           }
          ],
          "mesh3d": [
           {
            "colorbar": {
             "outlinewidth": 0,
             "ticks": ""
            },
            "type": "mesh3d"
           }
          ],
          "parcoords": [
           {
            "line": {
             "colorbar": {
              "outlinewidth": 0,
              "ticks": ""
             }
            },
            "type": "parcoords"
           }
          ],
          "pie": [
           {
            "automargin": true,
            "type": "pie"
           }
          ],
          "scatter": [
           {
            "fillpattern": {
             "fillmode": "overlay",
             "size": 10,
             "solidity": 0.2
            },
            "type": "scatter"
           }
          ],
          "scatter3d": [
           {
            "line": {
             "colorbar": {
              "outlinewidth": 0,
              "ticks": ""
             }
            },
            "marker": {
             "colorbar": {
              "outlinewidth": 0,
              "ticks": ""
             }
            },
            "type": "scatter3d"
           }
          ],
          "scattercarpet": [
           {
            "marker": {
             "colorbar": {
              "outlinewidth": 0,
              "ticks": ""
             }
            },
            "type": "scattercarpet"
           }
          ],
          "scattergeo": [
           {
            "marker": {
             "colorbar": {
              "outlinewidth": 0,
              "ticks": ""
             }
            },
            "type": "scattergeo"
           }
          ],
          "scattergl": [
           {
            "marker": {
             "colorbar": {
              "outlinewidth": 0,
              "ticks": ""
             }
            },
            "type": "scattergl"
           }
          ],
          "scattermap": [
           {
            "marker": {
             "colorbar": {
              "outlinewidth": 0,
              "ticks": ""
             }
            },
            "type": "scattermap"
           }
          ],
          "scattermapbox": [
           {
            "marker": {
             "colorbar": {
              "outlinewidth": 0,
              "ticks": ""
             }
            },
            "type": "scattermapbox"
           }
          ],
          "scatterpolar": [
           {
            "marker": {
             "colorbar": {
              "outlinewidth": 0,
              "ticks": ""
             }
            },
            "type": "scatterpolar"
           }
          ],
          "scatterpolargl": [
           {
            "marker": {
             "colorbar": {
              "outlinewidth": 0,
              "ticks": ""
             }
            },
            "type": "scatterpolargl"
           }
          ],
          "scatterternary": [
           {
            "marker": {
             "colorbar": {
              "outlinewidth": 0,
              "ticks": ""
             }
            },
            "type": "scatterternary"
           }
          ],
          "surface": [
           {
            "colorbar": {
             "outlinewidth": 0,
             "ticks": ""
            },
            "colorscale": [
             [
              0,
              "#0d0887"
             ],
             [
              0.1111111111111111,
              "#46039f"
             ],
             [
              0.2222222222222222,
              "#7201a8"
             ],
             [
              0.3333333333333333,
              "#9c179e"
             ],
             [
              0.4444444444444444,
              "#bd3786"
             ],
             [
              0.5555555555555556,
              "#d8576b"
             ],
             [
              0.6666666666666666,
              "#ed7953"
             ],
             [
              0.7777777777777778,
              "#fb9f3a"
             ],
             [
              0.8888888888888888,
              "#fdca26"
             ],
             [
              1,
              "#f0f921"
             ]
            ],
            "type": "surface"
           }
          ],
          "table": [
           {
            "cells": {
             "fill": {
              "color": "#EBF0F8"
             },
             "line": {
              "color": "white"
             }
            },
            "header": {
             "fill": {
              "color": "#C8D4E3"
             },
             "line": {
              "color": "white"
             }
            },
            "type": "table"
           }
          ]
         },
         "layout": {
          "annotationdefaults": {
           "arrowcolor": "#2a3f5f",
           "arrowhead": 0,
           "arrowwidth": 1
          },
          "autotypenumbers": "strict",
          "coloraxis": {
           "colorbar": {
            "outlinewidth": 0,
            "ticks": ""
           }
          },
          "colorscale": {
           "diverging": [
            [
             0,
             "#8e0152"
            ],
            [
             0.1,
             "#c51b7d"
            ],
            [
             0.2,
             "#de77ae"
            ],
            [
             0.3,
             "#f1b6da"
            ],
            [
             0.4,
             "#fde0ef"
            ],
            [
             0.5,
             "#f7f7f7"
            ],
            [
             0.6,
             "#e6f5d0"
            ],
            [
             0.7,
             "#b8e186"
            ],
            [
             0.8,
             "#7fbc41"
            ],
            [
             0.9,
             "#4d9221"
            ],
            [
             1,
             "#276419"
            ]
           ],
           "sequential": [
            [
             0,
             "#0d0887"
            ],
            [
             0.1111111111111111,
             "#46039f"
            ],
            [
             0.2222222222222222,
             "#7201a8"
            ],
            [
             0.3333333333333333,
             "#9c179e"
            ],
            [
             0.4444444444444444,
             "#bd3786"
            ],
            [
             0.5555555555555556,
             "#d8576b"
            ],
            [
             0.6666666666666666,
             "#ed7953"
            ],
            [
             0.7777777777777778,
             "#fb9f3a"
            ],
            [
             0.8888888888888888,
             "#fdca26"
            ],
            [
             1,
             "#f0f921"
            ]
           ],
           "sequentialminus": [
            [
             0,
             "#0d0887"
            ],
            [
             0.1111111111111111,
             "#46039f"
            ],
            [
             0.2222222222222222,
             "#7201a8"
            ],
            [
             0.3333333333333333,
             "#9c179e"
            ],
            [
             0.4444444444444444,
             "#bd3786"
            ],
            [
             0.5555555555555556,
             "#d8576b"
            ],
            [
             0.6666666666666666,
             "#ed7953"
            ],
            [
             0.7777777777777778,
             "#fb9f3a"
            ],
            [
             0.8888888888888888,
             "#fdca26"
            ],
            [
             1,
             "#f0f921"
            ]
           ]
          },
          "colorway": [
           "#636efa",
           "#EF553B",
           "#00cc96",
           "#ab63fa",
           "#FFA15A",
           "#19d3f3",
           "#FF6692",
           "#B6E880",
           "#FF97FF",
           "#FECB52"
          ],
          "font": {
           "color": "#2a3f5f"
          },
          "geo": {
           "bgcolor": "white",
           "lakecolor": "white",
           "landcolor": "#E5ECF6",
           "showlakes": true,
           "showland": true,
           "subunitcolor": "white"
          },
          "hoverlabel": {
           "align": "left"
          },
          "hovermode": "closest",
          "mapbox": {
           "style": "light"
          },
          "paper_bgcolor": "white",
          "plot_bgcolor": "#E5ECF6",
          "polar": {
           "angularaxis": {
            "gridcolor": "white",
            "linecolor": "white",
            "ticks": ""
           },
           "bgcolor": "#E5ECF6",
           "radialaxis": {
            "gridcolor": "white",
            "linecolor": "white",
            "ticks": ""
           }
          },
          "scene": {
           "xaxis": {
            "backgroundcolor": "#E5ECF6",
            "gridcolor": "white",
            "gridwidth": 2,
            "linecolor": "white",
            "showbackground": true,
            "ticks": "",
            "zerolinecolor": "white"
           },
           "yaxis": {
            "backgroundcolor": "#E5ECF6",
            "gridcolor": "white",
            "gridwidth": 2,
            "linecolor": "white",
            "showbackground": true,
            "ticks": "",
            "zerolinecolor": "white"
           },
           "zaxis": {
            "backgroundcolor": "#E5ECF6",
            "gridcolor": "white",
            "gridwidth": 2,
            "linecolor": "white",
            "showbackground": true,
            "ticks": "",
            "zerolinecolor": "white"
           }
          },
          "shapedefaults": {
           "line": {
            "color": "#2a3f5f"
           }
          },
          "ternary": {
           "aaxis": {
            "gridcolor": "white",
            "linecolor": "white",
            "ticks": ""
           },
           "baxis": {
            "gridcolor": "white",
            "linecolor": "white",
            "ticks": ""
           },
           "bgcolor": "#E5ECF6",
           "caxis": {
            "gridcolor": "white",
            "linecolor": "white",
            "ticks": ""
           }
          },
          "title": {
           "x": 0.05
          },
          "xaxis": {
           "automargin": true,
           "gridcolor": "white",
           "linecolor": "white",
           "ticks": "",
           "title": {
            "standoff": 15
           },
           "zerolinecolor": "white",
           "zerolinewidth": 2
          },
          "yaxis": {
           "automargin": true,
           "gridcolor": "white",
           "linecolor": "white",
           "ticks": "",
           "title": {
            "standoff": 15
           },
           "zerolinecolor": "white",
           "zerolinewidth": 2
          }
         }
        },
        "title": {
         "text": "Secondary Completion Rate Trends by Region (2010-2023)"
        },
        "xaxis": {
         "anchor": "y",
         "domain": [
          0,
          1
         ],
         "gridcolor": "lightgray",
         "gridwidth": 1,
         "showgrid": true,
         "title": {
          "text": "Year"
         }
        },
        "yaxis": {
         "anchor": "x",
         "domain": [
          0,
          1
         ],
         "gridcolor": "lightgray",
         "gridwidth": 1,
         "showgrid": true,
         "title": {
          "text": "Secondary Completion Rate (%)"
         }
        }
       }
      }
     },
     "metadata": {},
     "output_type": "display_data"
    },
    {
     "name": "stdout",
     "output_type": "stream",
     "text": [
      "\n",
      "Secondary Completion Rate Summary:\n",
      "   • Data coverage: 2010-2023\n",
      "   • Total observations: 214\n",
      "   • Peak year: 2012 (23 countries)\n",
      "   • Recent year: 2023 (11 countries)\n"
     ]
    }
   ],
   "source": [
    "# Time series analysis\n",
    "for indicator in key_indicators:\n",
    "    if indicator in features_df.columns:\n",
    "        # Get all available data\n",
    "        indicator_data = features_df[features_df[indicator].notna()].copy()\n",
    "        \n",
    "        if len(indicator_data) > 0:\n",
    "            # Calculate regional trends with minimum data requirements\n",
    "            regional_trends = indicator_data.groupby(['region', 'year']).agg({\n",
    "                indicator: ['mean', 'count']\n",
    "            }).reset_index()\n",
    "            \n",
    "            # Flatten column names\n",
    "            regional_trends.columns = ['region', 'year', 'mean_value', 'country_count']\n",
    "            \n",
    "            # Filter out years with very few data points (< 2 countries per region)\n",
    "            regional_trends = regional_trends[regional_trends['country_count'] >= 1]\n",
    "            \n",
    "            # Create the plot with markers to show actual data points\n",
    "            fig = px.line(\n",
    "                regional_trends, \n",
    "                x='year', \n",
    "                y='mean_value', \n",
    "                color='region',\n",
    "                title=f'{indicator_names[indicator]} Trends by Region ({regional_trends[\"year\"].min()}-{regional_trends[\"year\"].max()})',\n",
    "                labels={'mean_value': f'{indicator_names[indicator]} (%)', 'year': 'Year'},\n",
    "                markers=True,\n",
    "                hover_data={'country_count': True}\n",
    "            )\n",
    "            \n",
    "            # Add annotations for data quality\n",
    "            fig.add_annotation(\n",
    "                text=f\"Total observations: {len(indicator_data)} | Years: {len(regional_trends['year'].unique())} | Regions: {len(regional_trends['region'].unique())}\",\n",
    "                xref=\"paper\", yref=\"paper\",\n",
    "                x=0.02, y=0.98, showarrow=False,\n",
    "                font=dict(size=10, color=\"gray\"),\n",
    "                bgcolor=\"rgba(255,255,255,0.8)\"\n",
    "            )\n",
    "            \n",
    "            # Customize layout\n",
    "            fig.update_layout(\n",
    "                height=500,\n",
    "                hovermode='x unified',\n",
    "                legend=dict(\n",
    "                    orientation=\"h\",\n",
    "                    yanchor=\"bottom\",\n",
    "                    y=1.02,\n",
    "                    xanchor=\"right\",\n",
    "                    x=1\n",
    "                )\n",
    "            )\n",
    "            \n",
    "            # Add grid for better readability\n",
    "            fig.update_xaxes(showgrid=True, gridwidth=1, gridcolor='lightgray')\n",
    "            fig.update_yaxes(showgrid=True, gridwidth=1, gridcolor='lightgray')\n",
    "            \n",
    "            fig.show()\n",
    "            \n",
    "            # Print detailed summary\n",
    "            print(f\"\\n{indicator_names[indicator]} Summary:\")\n",
    "            print(f\"   • Data coverage: {regional_trends['year'].min()}-{regional_trends['year'].max()}\")\n",
    "            print(f\"   • Total observations: {len(indicator_data)}\")\n",
    "            print(f\"   • Peak year: {indicator_data.groupby('year').size().idxmax()} ({indicator_data.groupby('year').size().max()} countries)\")\n",
    "            print(f\"   • Recent year: {indicator_data['year'].max()} ({len(indicator_data[indicator_data['year'] == indicator_data['year'].max()])} countries)\")"
   ]
  },
  {
   "cell_type": "markdown",
   "metadata": {},
   "source": [
    "## 6. Dropout Risk Factor Analysis"
   ]
  },
  {
   "cell_type": "code",
   "execution_count": 20,
   "metadata": {},
   "outputs": [
    {
     "name": "stdout",
     "output_type": "stream",
     "text": [
      "=== DROPOUT RISK DISTRIBUTION ===\n",
      "Low Risk: 222 (54.8%)\n",
      "High Risk: 183 (45.2%)\n"
     ]
    },
    {
     "data": {
      "image/png": "[encoded data removed]",
      "text/plain": [
       "<Figure size 1000x600 with 1 Axes>"
      ]
     },
     "metadata": {},
     "output_type": "display_data"
    }
   ],
   "source": [
    "# Analyze dropout risk factors\n",
    "if 'dropout_risk_high' in features_df.columns:\n",
    "    print(\"=== DROPOUT RISK DISTRIBUTION ===\")\n",
    "    risk_dist = features_df['dropout_risk_high'].value_counts()\n",
    "    print(f\"Low Risk: {risk_dist.get(0, 0)} ({risk_dist.get(0, 0)/len(features_df)*100:.1f}%)\")\n",
    "    print(f\"High Risk: {risk_dist.get(1, 0)} ({risk_dist.get(1, 0)/len(features_df)*100:.1f}%)\")\n",
    "    \n",
    "    # Risk by region\n",
    "    risk_by_region = pd.crosstab(features_df['region'], features_df['dropout_risk_high'], normalize='index') * 100\n",
    "    \n",
    "    fig, ax = plt.subplots(figsize=(10, 6))\n",
    "    risk_by_region.plot(kind='bar', ax=ax, color=['lightgreen', 'salmon'])\n",
    "    ax.set_title('Dropout Risk Distribution by Region')\n",
    "    ax.set_ylabel('Percentage (%)')\n",
    "    ax.set_xlabel('Region')\n",
    "    ax.legend(['Low Risk', 'High Risk'])\n",
    "    ax.tick_params(axis='x', rotation=45)\n",
    "    plt.tight_layout()\n",
    "    plt.show()"
   ]
  },
  {
   "cell_type": "markdown",
   "metadata": {},
   "source": [
    "**Dropout Risk Distribution Analysis**\n",
    "\n",
    "**Overall Distribution:**\n",
    "\n",
    "54.8% of observations are classified as Low Risk for dropout (222 cases)\n",
    "45.2% are classified as High Risk for dropout (183 cases)\n",
    "Regional Patterns: The bar chart reveals significant regional disparities in dropout risk:\n",
    "\n",
    "Southern Africa shows the best performance with ~69% low-risk cases and only ~31% high-risk cases\n",
    "Central Africa has a balanced distribution (~50% each)\n",
    "East Africa shows higher risk with ~46% low-risk and ~54% high-risk cases\n",
    "West Africa also shows elevated risk with ~46% low-risk and ~54% high-risk cases\n",
    "Key Insights:\n",
    "\n",
    "Southern Africa appears to have more stable education systems with lower dropout risk\n",
    "\n",
    "East and West Africa face greater challenges with education retention\n",
    "This aligns with broader development patterns across Sub-Saharan Africa, where Southern African countries often have more developed education infrastructure\n",
    "\n",
    "This analysis supports targeted policy interventions, with East and West Africa requiring more intensive dropout prevention programs compared to the relatively stable Southern African region."
   ]
  },
  {
   "cell_type": "markdown",
   "metadata": {},
   "source": [
    "## 7. Economic Factors and Education Outcomes"
   ]
  },
  {
   "cell_type": "code",
   "execution_count": 23,
   "metadata": {},
   "outputs": [
    {
     "name": "stdout",
     "output_type": "stream",
     "text": [
      "Available columns in the dataset:\n",
      "Economic-related columns:\n",
      "  - NY.GDP.PCAP.CD\n",
      "\n",
      "Education-related columns:\n",
      "  - primary_gender_parity\n",
      "  - secondary_gender_parity\n",
      "  - primary_to_secondary_transition\n",
      "  - primary_completion_gap\n",
      "  - education_investment_per_capita\n"
     ]
    },
    {
     "data": {
      "image/png": "[encoded data removed]",
      "text/plain": [
       "<Figure size 1800x500 with 3 Axes>"
      ]
     },
     "metadata": {},
     "output_type": "display_data"
    },
    {
     "name": "stdout",
     "output_type": "stream",
     "text": [
      "\n",
      "Data Availability Summary (using ALL data points):\n",
      "==================================================\n",
      "GDP per Capita vs Primary Completion: 236/405 valid data points (58.3%)\n",
      "Education Spending vs Secondary Enrollment: 93/405 valid data points (23.0%)\n",
      "Rural Population vs Primary Enrollment: 124/405 valid data points (30.6%)\n",
      "\n",
      "============================================================\n",
      "ALTERNATIVE ANALYSIS WITH MORE AVAILABLE INDICATORS\n",
      "============================================================\n",
      "GDP per Capita vs Primary Enrollment: 124 data points available\n",
      "Rural Population vs Primary Completion: 237 data points available\n"
     ]
    },
    {
     "data": {
      "image/png": "[encoded data removed]",
      "text/plain": [
       "<Figure size 1200x500 with 2 Axes>"
      ]
     },
     "metadata": {},
     "output_type": "display_data"
    }
   ],
   "source": [
    "print(\"Available columns in the dataset:\")\n",
    "economic_cols = [col for col in features_df.columns if any(keyword in col.lower() for keyword in ['gdp', 'economic', 'income', 'poverty', 'rural', 'urban', 'spending', 'expenditure'])]\n",
    "print(\"Economic-related columns:\")\n",
    "for col in economic_cols:\n",
    "    print(f\"  - {col}\")\n",
    "\n",
    "print(\"\\nEducation-related columns:\")\n",
    "education_cols = [col for col in features_df.columns if any(keyword in col.lower() for keyword in ['education', 'school', 'enrollment', 'completion', 'literacy', 'primary', 'secondary'])]\n",
    "for col in education_cols:\n",
    "    print(f\"  - {col}\")\n",
    "\n",
    "# Updated economic indicators vs education outcomes with available columns\n",
    "economic_education_pairs = [\n",
    "    ('NY.GDP.PCAP.CD', 'SE.PRM.CMPT.ZS', 'GDP per Capita vs Primary Completion'),\n",
    "    ('SE.XPD.TOTL.GD.ZS', 'SE.SEC.NENR', 'Education Spending vs Secondary Enrollment'),\n",
    "    ('SP.RUR.TOTL.ZS', 'SE.PRM.NENR', 'Rural Population vs Primary Enrollment')\n",
    "]\n",
    "\n",
    "fig, axes = plt.subplots(1, 3, figsize=(18, 5))\n",
    "\n",
    "for i, (x_var, y_var, title) in enumerate(economic_education_pairs):\n",
    "    if x_var in features_df.columns and y_var in features_df.columns:\n",
    "        # Use ALL available data points, not just latest year\n",
    "        valid_data = features_df.dropna(subset=[x_var, y_var])\n",
    "        \n",
    "        # Check if we have enough data points\n",
    "        if len(valid_data) > 1:\n",
    "            # Create scatter plot\n",
    "            scatter = axes[i].scatter(valid_data[x_var], valid_data[y_var], \n",
    "                                    c=valid_data['dropout_risk_high'] if 'dropout_risk_high' in valid_data.columns else 'blue',\n",
    "                                    cmap='RdYlGn_r', alpha=0.7, s=50)\n",
    "            \n",
    "            # Set labels and title\n",
    "            axes[i].set_xlabel(x_var.replace('_', ' ').replace('.', ' ').title())\n",
    "            axes[i].set_ylabel(y_var.replace('_', ' ').replace('.', ' ').title())\n",
    "            axes[i].set_title(title, fontsize=12, fontweight='bold')\n",
    "            axes[i].grid(True, alpha=0.3)\n",
    "            \n",
    "            # Add trend line only if we have enough points\n",
    "            if len(valid_data) >= 2:\n",
    "                try:\n",
    "                    z = np.polyfit(valid_data[x_var], valid_data[y_var], 1)\n",
    "                    p = np.poly1d(z)\n",
    "                    x_trend = np.linspace(valid_data[x_var].min(), valid_data[x_var].max(), 100)\n",
    "                    axes[i].plot(x_trend, p(x_trend), \"r--\", alpha=0.8, linewidth=2)\n",
    "                    \n",
    "                    # Calculate and display correlation\n",
    "                    correlation = valid_data[x_var].corr(valid_data[y_var])\n",
    "                    axes[i].text(0.05, 0.95, f'r = {correlation:.3f}', \n",
    "                               transform=axes[i].transAxes, fontsize=10,\n",
    "                               bbox=dict(boxstyle=\"round,pad=0.3\", facecolor=\"white\", alpha=0.8))\n",
    "                except Exception as e:\n",
    "                    print(f\"Could not fit trend line for {title}: {e}\")\n",
    "            \n",
    "            # Add data point count\n",
    "            axes[i].text(0.05, 0.05, f'n = {len(valid_data)}', \n",
    "                       transform=axes[i].transAxes, fontsize=10,\n",
    "                       bbox=dict(boxstyle=\"round,pad=0.3\", facecolor=\"lightgray\", alpha=0.8))\n",
    "        else:\n",
    "            # Handle case with insufficient data\n",
    "            axes[i].text(0.5, 0.5, f'Insufficient data\\nfor {title}', \n",
    "                       transform=axes[i].transAxes, ha='center', va='center',\n",
    "                       fontsize=12, bbox=dict(boxstyle=\"round,pad=0.5\", facecolor=\"lightcoral\", alpha=0.7))\n",
    "            axes[i].set_xlabel(x_var.replace('_', ' ').replace('.', ' ').title())\n",
    "            axes[i].set_ylabel(y_var.replace('_', ' ').replace('.', ' ').title())\n",
    "            axes[i].set_title(title, fontsize=12, fontweight='bold')\n",
    "    else:\n",
    "        # Handle missing columns\n",
    "        missing_cols = [col for col in [x_var, y_var] if col not in features_df.columns]\n",
    "        axes[i].text(0.5, 0.5, f'Missing columns:\\n{\", \".join(missing_cols)}', \n",
    "                   transform=axes[i].transAxes, ha='center', va='center',\n",
    "                   fontsize=12, bbox=dict(boxstyle=\"round,pad=0.5\", facecolor=\"lightcoral\", alpha=0.7))\n",
    "        axes[i].set_title(title, fontsize=12, fontweight='bold')\n",
    "\n",
    "plt.tight_layout()\n",
    "plt.show()\n",
    "\n",
    "# Print data availability summary\n",
    "print(\"\\nData Availability Summary (using ALL data points):\")\n",
    "print(\"=\" * 50)\n",
    "for x_var, y_var, title in economic_education_pairs:\n",
    "    if x_var in features_df.columns and y_var in features_df.columns:\n",
    "        valid_count = features_df.dropna(subset=[x_var, y_var]).shape[0]\n",
    "        total_count = features_df.shape[0]\n",
    "        print(f\"{title}: {valid_count}/{total_count} valid data points ({valid_count/total_count*100:.1f}%)\")\n",
    "    else:\n",
    "        missing_cols = [col for col in [x_var, y_var] if col not in features_df.columns]\n",
    "        print(f\"{title}: Missing columns - {', '.join(missing_cols)}\")\n",
    "\n",
    "# Let's also try some alternative economic indicators that might be more available\n",
    "print(\"\\n\" + \"=\"*60)\n",
    "print(\"ALTERNATIVE ANALYSIS WITH MORE AVAILABLE INDICATORS\")\n",
    "print(\"=\"*60)\n",
    "\n",
    "# Check for alternative indicators\n",
    "alternative_pairs = []\n",
    "\n",
    "# Try to find better economic indicators\n",
    "if 'NY.GDP.PCAP.CD' in features_df.columns:\n",
    "    alternative_pairs.append(('NY.GDP.PCAP.CD', 'SE.PRM.NENR', 'GDP per Capita vs Primary Enrollment'))\n",
    "if 'SP.RUR.TOTL.ZS' in features_df.columns:\n",
    "    alternative_pairs.append(('SP.RUR.TOTL.ZS', 'SE.PRM.CMPT.ZS', 'Rural Population vs Primary Completion'))\n",
    "if 'SP.URB.TOTL.IN.ZS' in features_df.columns:\n",
    "    alternative_pairs.append(('SP.URB.TOTL.IN.ZS', 'SE.SEC.NENR', 'Urban Population vs Secondary Enrollment'))\n",
    "\n",
    "if alternative_pairs:\n",
    "    fig, axes = plt.subplots(1, len(alternative_pairs), figsize=(6*len(alternative_pairs), 5))\n",
    "    if len(alternative_pairs) == 1:\n",
    "        axes = [axes]\n",
    "    \n",
    "    for i, (x_var, y_var, title) in enumerate(alternative_pairs):\n",
    "        if x_var in features_df.columns and y_var in features_df.columns:\n",
    "            # Use ALL available data points\n",
    "            valid_data = features_df.dropna(subset=[x_var, y_var])\n",
    "            \n",
    "            if len(valid_data) > 1:\n",
    "                # Create scatter plot\n",
    "                scatter = axes[i].scatter(valid_data[x_var], valid_data[y_var], \n",
    "                                        c=valid_data['dropout_risk_high'] if 'dropout_risk_high' in valid_data.columns else 'blue',\n",
    "                                        cmap='RdYlGn_r', alpha=0.7, s=50)\n",
    "                \n",
    "                # Set labels and title\n",
    "                axes[i].set_xlabel(x_var.replace('_', ' ').replace('.', ' ').title())\n",
    "                axes[i].set_ylabel(y_var.replace('_', ' ').replace('.', ' ').title())\n",
    "                axes[i].set_title(title, fontsize=12, fontweight='bold')\n",
    "                axes[i].grid(True, alpha=0.3)\n",
    "                \n",
    "                # Add trend line\n",
    "                if len(valid_data) >= 2:\n",
    "                    try:\n",
    "                        z = np.polyfit(valid_data[x_var], valid_data[y_var], 1)\n",
    "                        p = np.poly1d(z)\n",
    "                        x_trend = np.linspace(valid_data[x_var].min(), valid_data[x_var].max(), 100)\n",
    "                        axes[i].plot(x_trend, p(x_trend), \"r--\", alpha=0.8, linewidth=2)\n",
    "                        \n",
    "                        # Calculate and display correlation\n",
    "                        correlation = valid_data[x_var].corr(valid_data[y_var])\n",
    "                        axes[i].text(0.05, 0.95, f'r = {correlation:.3f}', \n",
    "                                   transform=axes[i].transAxes, fontsize=10,\n",
    "                                   bbox=dict(boxstyle=\"round,pad=0.3\", facecolor=\"white\", alpha=0.8))\n",
    "                    except Exception as e:\n",
    "                        print(f\"Could not fit trend line for {title}: {e}\")\n",
    "                \n",
    "                # Add data point count\n",
    "                axes[i].text(0.05, 0.05, f'n = {len(valid_data)}', \n",
    "                           transform=axes[i].transAxes, fontsize=10,\n",
    "                           bbox=dict(boxstyle=\"round,pad=0.3\", facecolor=\"lightgray\", alpha=0.8))\n",
    "                \n",
    "                print(f\"{title}: {len(valid_data)} data points available\")\n",
    "    \n",
    "    plt.tight_layout()\n",
    "    plt.show()\n"
   ]
  },
  {
   "cell_type": "markdown",
   "metadata": {},
   "source": [
    "**Key Findings**\n",
    "\n",
    "1. **GDP per Capita vs Primary Enrollment (Left Plot)**\n",
    "Sample size: 124 data points\n",
    "Correlation: r = 0.304 (moderate positive correlation)\n",
    "Interpretation: Countries with higher GDP per capita tend to have higher primary school enrollment rates\n",
    "Trend: The red dashed line shows a clear upward trend - as economic prosperity increases, more children attend primary school\n",
    "\n",
    "2. **Rural Population vs Primary Completion (Right Plot)**\n",
    "Sample size: 237 data points (much larger sample!)\n",
    "Correlation: r = -0.262 (moderate negative correlation)\n",
    "Interpretation: Countries with higher rural population percentages tend to have lower primary school completion rates\n",
    "Trend: The downward trend suggests that rural areas face challenges in ensuring children complete their primary education\n",
    "\n",
    "**Green dots:** Lower dropout risk\n",
    "\n",
    "**Red dots:** Higher dropout risk\n",
    "\n",
    "**Policy Implications**\n",
    "\n",
    "These findings suggest:\n",
    "\n",
    "Economic development is positively associated with education access\n",
    "Rural-urban disparities significantly impact educational completion\n",
    "Countries should focus on rural education infrastructure and support systems\n",
    "\n",
    "Economic growth strategies should consider their impact on educational outcomes"
   ]
  },
  {
   "cell_type": "markdown",
   "metadata": {},
   "source": [
    "## 8. Key Insights and Findings Summary"
   ]
  },
  {
   "cell_type": "code",
   "execution_count": 24,
   "metadata": {},
   "outputs": [
    {
     "name": "stdout",
     "output_type": "stream",
     "text": [
      "================================================================================\n",
      "KEY INSIGHTS FROM AFRICAN EDUCATION DROPOUT ANALYSIS\n",
      "================================================================================\n",
      "\n",
      "1. REGIONAL PRIMARY ENROLLMENT PATTERNS:\n",
      "   Southern Africa: 89.3% average enrollment\n",
      "   East Africa: 87.7% average enrollment\n",
      "   Central Africa: 79.5% average enrollment\n",
      "   West Africa: 69.7% average enrollment\n",
      "\n",
      "2. GENDER PARITY:\n",
      "   Primary education gender parity index: 0.96\n",
      "   Male advantage\n",
      "\n",
      "3. DROPOUT RISK ASSESSMENT:\n",
      "   45.2% of country-years classified as high dropout risk\n",
      "\n",
      "   TOP 5 HIGHEST RISK COUNTRIES:\n",
      "   1. Burkina Faso: 93.3% of years high risk\n",
      "   2. Cameroon: 93.3% of years high risk\n",
      "   3. Madagascar: 93.3% of years high risk\n",
      "   4. Niger: 93.3% of years high risk\n",
      "   5. Mozambique: 80.0% of years high risk\n",
      "\n",
      "4. ECONOMIC FACTORS:\n",
      "   GDP per capita vs Primary completion correlation: 0.555\n",
      "\n",
      "================================================================================\n",
      "RECOMMENDATIONS FOR POLICY MAKERS:\n",
      "================================================================================\n",
      "1. Focus interventions on regions with lowest enrollment rates\n",
      "2. Address gender disparities through targeted programs\n",
      "3. Prioritize high-risk countries for international support\n",
      "4. Strengthen economic development alongside education investment\n",
      "5. Implement early warning systems for dropout prevention\n",
      "================================================================================\n"
     ]
    }
   ],
   "source": [
    "# Generate comprehensive insights summary\n",
    "print(\"=\" * 80)\n",
    "print(\"KEY INSIGHTS FROM AFRICAN EDUCATION DROPOUT ANALYSIS\")\n",
    "print(\"=\" * 80)\n",
    "\n",
    "# 1. Regional patterns\n",
    "if 'SE.PRM.NENR' in features_df.columns:\n",
    "    regional_primary = features_df.groupby('region')['SE.PRM.NENR'].mean().sort_values(ascending=False)\n",
    "    print(\"\\n1. REGIONAL PRIMARY ENROLLMENT PATTERNS:\")\n",
    "    for region, rate in regional_primary.items():\n",
    "        if pd.notna(rate):\n",
    "            print(f\"   {region}: {rate:.1f}% average enrollment\")\n",
    "\n",
    "# 2. Gender disparities\n",
    "if 'primary_gender_parity' in features_df.columns:\n",
    "    gender_parity = features_df['primary_gender_parity'].mean()\n",
    "    print(f\"\\n2. GENDER PARITY:\")\n",
    "    print(f\"   Primary education gender parity index: {gender_parity:.2f}\")\n",
    "    print(f\"   {'Female advantage' if gender_parity > 1 else 'Male advantage' if gender_parity < 1 else 'Gender parity'}\")\n",
    "\n",
    "# 3. Dropout risk distribution\n",
    "if 'dropout_risk_high' in features_df.columns:\n",
    "    high_risk_pct = features_df['dropout_risk_high'].mean() * 100\n",
    "    print(f\"\\n3. DROPOUT RISK ASSESSMENT:\")\n",
    "    print(f\"   {high_risk_pct:.1f}% of country-years classified as high dropout risk\")\n",
    "    \n",
    "    # Countries with highest risk\n",
    "    country_risk = features_df.groupby('country_name')['dropout_risk_high'].mean().sort_values(ascending=False)\n",
    "    print(f\"\\n   TOP 5 HIGHEST RISK COUNTRIES:\")\n",
    "    for i, (country, risk) in enumerate(country_risk.head().items()):\n",
    "        print(f\"   {i+1}. {country}: {risk*100:.1f}% of years high risk\")\n",
    "\n",
    "# 4. Economic correlations\n",
    "if 'NY.GDP.PCAP.CD' in features_df.columns and 'SE.PRM.CMPT.ZS' in features_df.columns:\n",
    "    correlation = features_df[['NY.GDP.PCAP.CD', 'SE.PRM.CMPT.ZS']].corr().iloc[0,1]\n",
    "    print(f\"\\n4. ECONOMIC FACTORS:\")\n",
    "    print(f\"   GDP per capita vs Primary completion correlation: {correlation:.3f}\")\n",
    "\n",
    "print(\"\\n\" + \"=\" * 80)\n",
    "print(\"RECOMMENDATIONS FOR POLICY MAKERS:\")\n",
    "print(\"=\" * 80)\n",
    "print(\"1. Focus interventions on regions with lowest enrollment rates\")\n",
    "print(\"2. Address gender disparities through targeted programs\")\n",
    "print(\"3. Prioritize high-risk countries for international support\")\n",
    "print(\"4. Strengthen economic development alongside education investment\")\n",
    "print(\"5. Implement early warning systems for dropout prevention\")\n",
    "print(\"=\" * 80)"
   ]
  },
  {
   "cell_type": "markdown",
   "metadata": {},
   "source": [
    "## 9. Data Export for Modeling\n",
    "\n",
    "Prepare cleaned datasets for machine learning model development."
   ]
  },
  {
   "cell_type": "code",
   "execution_count": 25,
   "metadata": {},
   "outputs": [
    {
     "name": "stdout",
     "output_type": "stream",
     "text": [
      "Modeling dataset saved: 226 records\n",
      "Features available: 38 columns\n",
      "\n",
      "Ready for machine learning model development!\n"
     ]
    }
   ],
   "source": [
    "# Export cleaned data for modeling\n",
    "modeling_data = features_df.copy()\n",
    "\n",
    "# Remove rows with too many missing values\n",
    "modeling_data = modeling_data.dropna(thresh=len(modeling_data.columns) * 0.5)\n",
    "\n",
    "# Save modeling dataset\n",
    "modeling_data.to_csv('data/processed/modeling_dataset.csv', index=False)\n",
    "print(f\"Modeling dataset saved: {len(modeling_data)} records\")\n",
    "print(f\"Features available: {len(modeling_data.columns)} columns\")\n",
    "print(\"\\nReady for machine learning model development!\")"
   ]
  }
 ],
 "metadata": {
  "kernelspec": {
   "display_name": "Python 3",
   "language": "python",
   "name": "python3"
  },
  "language_info": {
   "codemirror_mode": {
    "name": "ipython",
    "version": 3
   },
   "file_extension": ".py",
   "mimetype": "text/x-python",
   "name": "python",
   "nbconvert_exporter": "python",
   "pygments_lexer": "ipython3",
   "version": "3.13.1"
  }
 },
 "nbformat": 4,
 "nbformat_minor": 4
}
